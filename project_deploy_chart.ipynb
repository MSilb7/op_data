{
 "cells": [
  {
   "cell_type": "code",
   "execution_count": 363,
   "metadata": {},
   "outputs": [],
   "source": [
    "import pandas as pd\n",
    "import plotly.express as px\n",
    "import os\n",
    "\n",
    "min_txs_per_day = 100"
   ]
  },
  {
   "cell_type": "code",
   "execution_count": 364,
   "metadata": {},
   "outputs": [
    {
     "data": {
      "text/html": [
       "<div>\n",
       "<style scoped>\n",
       "    .dataframe tbody tr th:only-of-type {\n",
       "        vertical-align: middle;\n",
       "    }\n",
       "\n",
       "    .dataframe tbody tr th {\n",
       "        vertical-align: top;\n",
       "    }\n",
       "\n",
       "    .dataframe thead th {\n",
       "        text-align: right;\n",
       "    }\n",
       "</style>\n",
       "<table border=\"1\" class=\"dataframe\">\n",
       "  <thead>\n",
       "    <tr style=\"text-align: right;\">\n",
       "      <th></th>\n",
       "      <th>project</th>\n",
       "      <th>launch_time</th>\n",
       "      <th>num_contracts</th>\n",
       "      <th>type</th>\n",
       "      <th>num_transactions</th>\n",
       "      <th>txs_per_day</th>\n",
       "      <th>time_elapsed</th>\n",
       "      <th>year</th>\n",
       "      <th>date</th>\n",
       "    </tr>\n",
       "  </thead>\n",
       "  <tbody>\n",
       "    <tr>\n",
       "      <th>61</th>\n",
       "      <td>Early Optimists</td>\n",
       "      <td>2022-08-31T17:19:17Z</td>\n",
       "      <td>1</td>\n",
       "      <td>NFT Only Project</td>\n",
       "      <td>51450.0</td>\n",
       "      <td>513.549339</td>\n",
       "      <td>100.185116</td>\n",
       "      <td>2022</td>\n",
       "      <td>2022-08-31</td>\n",
       "    </tr>\n",
       "    <tr>\n",
       "      <th>137</th>\n",
       "      <td>Tarot Finance</td>\n",
       "      <td>2022-05-06T14:19:15Z</td>\n",
       "      <td>262</td>\n",
       "      <td>Contract Project</td>\n",
       "      <td>173284.0</td>\n",
       "      <td>797.404120</td>\n",
       "      <td>217.310139</td>\n",
       "      <td>2022</td>\n",
       "      <td>2022-05-06</td>\n",
       "    </tr>\n",
       "    <tr>\n",
       "      <th>8</th>\n",
       "      <td>Polynomial Protocol</td>\n",
       "      <td>2022-03-29T06:32:42Z</td>\n",
       "      <td>177</td>\n",
       "      <td>Contract Project</td>\n",
       "      <td>106516.0</td>\n",
       "      <td>416.673623</td>\n",
       "      <td>255.634132</td>\n",
       "      <td>2022</td>\n",
       "      <td>2022-03-29</td>\n",
       "    </tr>\n",
       "    <tr>\n",
       "      <th>76</th>\n",
       "      <td>Nested</td>\n",
       "      <td>2022-04-07T17:47:39Z</td>\n",
       "      <td>43</td>\n",
       "      <td>Contract Project</td>\n",
       "      <td>43503.0</td>\n",
       "      <td>176.722631</td>\n",
       "      <td>246.165417</td>\n",
       "      <td>2022</td>\n",
       "      <td>2022-04-07</td>\n",
       "    </tr>\n",
       "    <tr>\n",
       "      <th>19</th>\n",
       "      <td>1inch</td>\n",
       "      <td>2021-08-06T08:24:24Z</td>\n",
       "      <td>32</td>\n",
       "      <td>Contract Project</td>\n",
       "      <td>422261.0</td>\n",
       "      <td>860.779434</td>\n",
       "      <td>490.556562</td>\n",
       "      <td>2021</td>\n",
       "      <td>2021-08-06</td>\n",
       "    </tr>\n",
       "    <tr>\n",
       "      <th>119</th>\n",
       "      <td>Opensea</td>\n",
       "      <td>2022-06-27T17:55:35Z</td>\n",
       "      <td>2</td>\n",
       "      <td>Contract Project</td>\n",
       "      <td>22882.0</td>\n",
       "      <td>138.544519</td>\n",
       "      <td>165.159907</td>\n",
       "      <td>2022</td>\n",
       "      <td>2022-06-27</td>\n",
       "    </tr>\n",
       "    <tr>\n",
       "      <th>302</th>\n",
       "      <td>Holozaki</td>\n",
       "      <td>2022-06-05T07:22:03Z</td>\n",
       "      <td>42</td>\n",
       "      <td>Contract Project</td>\n",
       "      <td>24538.0</td>\n",
       "      <td>130.799670</td>\n",
       "      <td>187.599861</td>\n",
       "      <td>2022</td>\n",
       "      <td>2022-06-05</td>\n",
       "    </tr>\n",
       "    <tr>\n",
       "      <th>238</th>\n",
       "      <td>Stargate Finance</td>\n",
       "      <td>2022-03-15T12:57:15Z</td>\n",
       "      <td>42</td>\n",
       "      <td>Contract Project</td>\n",
       "      <td>459905.0</td>\n",
       "      <td>1707.354122</td>\n",
       "      <td>269.367083</td>\n",
       "      <td>2022</td>\n",
       "      <td>2022-03-15</td>\n",
       "    </tr>\n",
       "    <tr>\n",
       "      <th>190</th>\n",
       "      <td>Unidex</td>\n",
       "      <td>2022-10-24T08:13:10Z</td>\n",
       "      <td>32</td>\n",
       "      <td>Contract Project</td>\n",
       "      <td>9027.0</td>\n",
       "      <td>193.860698</td>\n",
       "      <td>46.564363</td>\n",
       "      <td>2022</td>\n",
       "      <td>2022-10-24</td>\n",
       "    </tr>\n",
       "    <tr>\n",
       "      <th>219</th>\n",
       "      <td>Web3 Savings Protocol</td>\n",
       "      <td>2022-11-16T13:08:15Z</td>\n",
       "      <td>1</td>\n",
       "      <td>Contract Project</td>\n",
       "      <td>3254.0</td>\n",
       "      <td>139.301258</td>\n",
       "      <td>23.359444</td>\n",
       "      <td>2022</td>\n",
       "      <td>2022-11-16</td>\n",
       "    </tr>\n",
       "  </tbody>\n",
       "</table>\n",
       "</div>"
      ],
      "text/plain": [
       "                   project           launch_time  num_contracts  \\\n",
       "61         Early Optimists  2022-08-31T17:19:17Z              1   \n",
       "137          Tarot Finance  2022-05-06T14:19:15Z            262   \n",
       "8      Polynomial Protocol  2022-03-29T06:32:42Z            177   \n",
       "76                  Nested  2022-04-07T17:47:39Z             43   \n",
       "19                   1inch  2021-08-06T08:24:24Z             32   \n",
       "119                Opensea  2022-06-27T17:55:35Z              2   \n",
       "302               Holozaki  2022-06-05T07:22:03Z             42   \n",
       "238       Stargate Finance  2022-03-15T12:57:15Z             42   \n",
       "190                 Unidex  2022-10-24T08:13:10Z             32   \n",
       "219  Web3 Savings Protocol  2022-11-16T13:08:15Z              1   \n",
       "\n",
       "                 type  num_transactions  txs_per_day  time_elapsed  year  \\\n",
       "61   NFT Only Project           51450.0   513.549339    100.185116  2022   \n",
       "137  Contract Project          173284.0   797.404120    217.310139  2022   \n",
       "8    Contract Project          106516.0   416.673623    255.634132  2022   \n",
       "76   Contract Project           43503.0   176.722631    246.165417  2022   \n",
       "19   Contract Project          422261.0   860.779434    490.556562  2021   \n",
       "119  Contract Project           22882.0   138.544519    165.159907  2022   \n",
       "302  Contract Project           24538.0   130.799670    187.599861  2022   \n",
       "238  Contract Project          459905.0  1707.354122    269.367083  2022   \n",
       "190  Contract Project            9027.0   193.860698     46.564363  2022   \n",
       "219  Contract Project            3254.0   139.301258     23.359444  2022   \n",
       "\n",
       "          date  \n",
       "61  2022-08-31  \n",
       "137 2022-05-06  \n",
       "8   2022-03-29  \n",
       "76  2022-04-07  \n",
       "19  2021-08-06  \n",
       "119 2022-06-27  \n",
       "302 2022-06-05  \n",
       "238 2022-03-15  \n",
       "190 2022-10-24  \n",
       "219 2022-11-16  "
      ]
     },
     "execution_count": 364,
     "metadata": {},
     "output_type": "execute_result"
    }
   ],
   "source": [
    "df = pd.read_csv('csv_exports/project_deploys_2022_12_09.csv')\n",
    "\n",
    "df = df[ (df['txs_per_day'] >= min_txs_per_day)]\n",
    "# df = df[ (df['type'] == 'Contract Project')]\n",
    "df['year'] = df['launch_time'].str[:4]\n",
    "df['date'] = pd.to_datetime( df['launch_time'].str[:10] )\n",
    "\n",
    "df.sample(10)"
   ]
  },
  {
   "cell_type": "code",
   "execution_count": 365,
   "metadata": {},
   "outputs": [],
   "source": [
    "df['type'] = df['type'].str.replace('Contract Project','dApp')\n",
    "df['type'] = df['type'].str.replace('NFT Only Project','NFT Project')"
   ]
  },
  {
   "cell_type": "code",
   "execution_count": 366,
   "metadata": {},
   "outputs": [],
   "source": [
    "exclude_list = ['Op','Optimistic Explorer']\n",
    "\n",
    "df = df[~df['project'].isin(exclude_list)]"
   ]
  },
  {
   "cell_type": "code",
   "execution_count": 367,
   "metadata": {},
   "outputs": [
    {
     "name": "stdout",
     "output_type": "stream",
     "text": [
      "      project  launch_time  num_contracts  type  num_transactions  \\\n",
      "year                                                                \n",
      "2021       25           25             25    25                25   \n",
      "2022       55           55             55    55                55   \n",
      "\n",
      "      txs_per_day  time_elapsed  date  \n",
      "year                                   \n",
      "2021           25            25    25  \n",
      "2022           55            55    55  \n"
     ]
    }
   ],
   "source": [
    "print(df.groupby(by='year').count())\n",
    "df = df[df['year'] == '2022']\n",
    "# display(df)"
   ]
  },
  {
   "cell_type": "code",
   "execution_count": 368,
   "metadata": {},
   "outputs": [
    {
     "data": {
      "application/vnd.plotly.v1+json": {
       "config": {
        "plotlyServerURL": "https://plot.ly"
       },
       "data": [
        {
         "hovertemplate": "<b>%{hovertext}</b><br><br>App Type=dApp<br>Deployment Date=%{x}<br>Transactions per Day=%{y}<extra></extra>",
         "hovertext": [
          "Paraswap",
          "Chainhop",
          "Clipper",
          "Polynomial Protocol",
          "Sushi",
          "Hashflow",
          "Teleportr/ Warp Speed",
          "Nested",
          "Quest3",
          "Curve",
          "Reaper Farm",
          "Zerion",
          "Beethoven X",
          "Opensea",
          "Gelato",
          "Tarot Finance",
          "Ripae",
          "Velodrome",
          "Kwenta",
          "Qidao",
          "Pooltogether",
          "Beefy Finance",
          "Mirror",
          "Wardenswap",
          "Optimismpad",
          "Unidex",
          "Kyberswap",
          "Granary",
          "Web3 Savings Protocol",
          "Opx Finance",
          "Aave",
          "Nex",
          "Thirdweb",
          "Stargate Finance",
          "Ecc Domains",
          "Odos",
          "Homora V2",
          "Revert Finance",
          "Sonne Finance",
          "Biconomy - Hyphen",
          "Galxe",
          "Layer Zero",
          "Holozaki",
          "Openxproject",
          "Apetimism Launchapd",
          "Lifi"
         ],
         "legendgroup": "dApp",
         "marker": {
          "color": "#636efa",
          "symbol": "circle"
         },
         "mode": "markers",
         "name": "dApp",
         "orientation": "v",
         "showlegend": true,
         "type": "scatter",
         "x": [
          "2022-07-15T00:00:00",
          "2022-05-11T00:00:00",
          "2022-02-04T00:00:00",
          "2022-03-29T00:00:00",
          "2022-05-04T00:00:00",
          "2022-05-02T00:00:00",
          "2022-04-16T00:00:00",
          "2022-04-07T00:00:00",
          "2022-03-31T00:00:00",
          "2022-01-17T00:00:00",
          "2022-07-04T00:00:00",
          "2022-03-09T00:00:00",
          "2022-04-23T00:00:00",
          "2022-06-27T00:00:00",
          "2022-01-09T00:00:00",
          "2022-05-06T00:00:00",
          "2022-08-04T00:00:00",
          "2022-06-01T00:00:00",
          "2022-02-12T00:00:00",
          "2022-04-05T00:00:00",
          "2022-07-01T00:00:00",
          "2022-06-24T00:00:00",
          "2022-01-19T00:00:00",
          "2022-04-11T00:00:00",
          "2022-08-14T00:00:00",
          "2022-10-24T00:00:00",
          "2022-06-16T00:00:00",
          "2022-05-26T00:00:00",
          "2022-11-16T00:00:00",
          "2022-11-02T00:00:00",
          "2022-03-04T00:00:00",
          "2022-08-31T00:00:00",
          "2022-06-23T00:00:00",
          "2022-03-15T00:00:00",
          "2022-08-10T00:00:00",
          "2022-10-06T00:00:00",
          "2022-07-07T00:00:00",
          "2022-07-15T00:00:00",
          "2022-09-25T00:00:00",
          "2022-06-13T00:00:00",
          "2022-07-18T00:00:00",
          "2022-03-15T00:00:00",
          "2022-06-05T00:00:00",
          "2022-08-19T00:00:00",
          "2022-07-29T00:00:00",
          "2022-01-12T00:00:00"
         ],
         "xaxis": "x",
         "y": [
          101.1957950158662,
          333.8381545183246,
          1164.861787607124,
          416.67362331391854,
          105.60207056933388,
          153.11831143076466,
          270.0434707947724,
          176.72263061593068,
          238.2205400293594,
          762.218936789303,
          150.5004967207802,
          127.5095472121821,
          1794.445800675281,
          138.54451942477743,
          196.3941430301849,
          797.4041196881313,
          171.11333163462072,
          14082.399864119869,
          740.3936566836205,
          580.9384639303381,
          2018.1464188487123,
          424.6593728714564,
          800.8058087355408,
          119.5681174027755,
          205.01646555423352,
          193.86069809286775,
          114.99190269415756,
          2492.7277206562044,
          139.3012581159179,
          1464.8542622740913,
          2195.326498937923,
          1551.7918006319944,
          104.76991314896448,
          1707.3541217762008,
          128.84708610581814,
          6748.665791196876,
          119.64614174713962,
          136.95817804001717,
          675.8476200930232,
          634.3544370510358,
          10584.037167907863,
          1308.8271855953049,
          130.7996703977659,
          103.51038412056609,
          263.8470154266824,
          282.41175685122494
         ],
         "yaxis": "y"
        },
        {
         "hovertemplate": "<b>%{hovertext}</b><br><br>App Type=NFT Project<br>Deployment Date=%{x}<br>Transactions per Day=%{y}<extra></extra>",
         "hovertext": [
          "RabbitHole Credentials: L2",
          "OptiChads",
          "OaycNFT",
          "Early Optimists",
          "Alpha Gal",
          "OP Delegatooors",
          "OP Horse Kingdom",
          "OP Bridgooor",
          "Atlantis World"
         ],
         "legendgroup": "NFT Project",
         "marker": {
          "color": "#EF553B",
          "symbol": "circle"
         },
         "mode": "markers",
         "name": "NFT Project",
         "orientation": "v",
         "showlegend": true,
         "type": "scatter",
         "x": [
          "2022-10-04T00:00:00",
          "2022-08-02T00:00:00",
          "2022-10-15T00:00:00",
          "2022-08-31T00:00:00",
          "2022-08-31T00:00:00",
          "2022-09-20T00:00:00",
          "2022-10-27T00:00:00",
          "2022-11-02T00:00:00",
          "2022-11-01T00:00:00"
         ],
         "xaxis": "x",
         "y": [
          400.8186614373047,
          100.47398537755912,
          256.645751721586,
          513.5493393364183,
          149.82160059983167,
          444.36178395459285,
          123.89885329248936,
          360.7141153661623,
          437.9259618683616
         ],
         "yaxis": "y"
        }
       ],
       "layout": {
        "annotations": [
         {
          "bgcolor": "#E6ECF5",
          "opacity": 0.9,
          "showarrow": false,
          "text": "Velodrome",
          "x": "2022-06-01T00:00:00",
          "y": 14082.399864119869,
          "yshift": 12
         },
         {
          "bgcolor": "#E6ECF5",
          "opacity": 0.9,
          "showarrow": false,
          "text": "Pooltogether",
          "x": "2022-07-01T00:00:00",
          "y": 2018.1464188487123,
          "yshift": 12
         },
         {
          "bgcolor": "#E6ECF5",
          "opacity": 0.9,
          "showarrow": false,
          "text": "Galxe",
          "x": "2022-07-18T00:00:00",
          "y": 10584.037167907863,
          "yshift": 12
         },
         {
          "bgcolor": "#E6ECF5",
          "opacity": 0.9,
          "showarrow": false,
          "text": "Aave",
          "x": "2022-03-04T00:00:00",
          "y": 2195.326498937923,
          "yshift": 12
         },
         {
          "bgcolor": "#E6ECF5",
          "opacity": 0.9,
          "showarrow": false,
          "text": "Curve",
          "x": "2022-01-17T00:00:00",
          "y": 762.218936789303,
          "yshift": 12
         },
         {
          "bgcolor": "#E6ECF5",
          "opacity": 0.9,
          "showarrow": false,
          "text": "Beethoven X",
          "x": "2022-04-23T00:00:00",
          "y": 1794.445800675281,
          "yshift": 12
         },
         {
          "bgcolor": "#E6ECF5",
          "opacity": 0.9,
          "showarrow": false,
          "text": "Kwenta",
          "x": "2022-02-12T00:00:00",
          "y": 740.3936566836205,
          "yshift": 12
         },
         {
          "bgcolor": "#E6ECF5",
          "opacity": 0.9,
          "showarrow": false,
          "text": "Opensea",
          "x": "2022-06-27T00:00:00",
          "y": 138.54451942477743,
          "yshift": 12
         },
         {
          "bgcolor": "#E6ECF5",
          "opacity": 0.9,
          "showarrow": false,
          "text": "Atlantis World",
          "x": "2022-11-01T00:00:00",
          "y": 437.9259618683616,
          "yshift": 12
         }
        ],
        "height": 400,
        "legend": {
         "title": {
          "text": "App Type"
         },
         "tracegroupgap": 0
        },
        "template": {
         "data": {
          "bar": [
           {
            "error_x": {
             "color": "#2a3f5f"
            },
            "error_y": {
             "color": "#2a3f5f"
            },
            "marker": {
             "line": {
              "color": "#E5ECF6",
              "width": 0.5
             },
             "pattern": {
              "fillmode": "overlay",
              "size": 10,
              "solidity": 0.2
             }
            },
            "type": "bar"
           }
          ],
          "barpolar": [
           {
            "marker": {
             "line": {
              "color": "#E5ECF6",
              "width": 0.5
             },
             "pattern": {
              "fillmode": "overlay",
              "size": 10,
              "solidity": 0.2
             }
            },
            "type": "barpolar"
           }
          ],
          "carpet": [
           {
            "aaxis": {
             "endlinecolor": "#2a3f5f",
             "gridcolor": "white",
             "linecolor": "white",
             "minorgridcolor": "white",
             "startlinecolor": "#2a3f5f"
            },
            "baxis": {
             "endlinecolor": "#2a3f5f",
             "gridcolor": "white",
             "linecolor": "white",
             "minorgridcolor": "white",
             "startlinecolor": "#2a3f5f"
            },
            "type": "carpet"
           }
          ],
          "choropleth": [
           {
            "colorbar": {
             "outlinewidth": 0,
             "ticks": ""
            },
            "type": "choropleth"
           }
          ],
          "contour": [
           {
            "colorbar": {
             "outlinewidth": 0,
             "ticks": ""
            },
            "colorscale": [
             [
              0,
              "#0d0887"
             ],
             [
              0.1111111111111111,
              "#46039f"
             ],
             [
              0.2222222222222222,
              "#7201a8"
             ],
             [
              0.3333333333333333,
              "#9c179e"
             ],
             [
              0.4444444444444444,
              "#bd3786"
             ],
             [
              0.5555555555555556,
              "#d8576b"
             ],
             [
              0.6666666666666666,
              "#ed7953"
             ],
             [
              0.7777777777777778,
              "#fb9f3a"
             ],
             [
              0.8888888888888888,
              "#fdca26"
             ],
             [
              1,
              "#f0f921"
             ]
            ],
            "type": "contour"
           }
          ],
          "contourcarpet": [
           {
            "colorbar": {
             "outlinewidth": 0,
             "ticks": ""
            },
            "type": "contourcarpet"
           }
          ],
          "heatmap": [
           {
            "colorbar": {
             "outlinewidth": 0,
             "ticks": ""
            },
            "colorscale": [
             [
              0,
              "#0d0887"
             ],
             [
              0.1111111111111111,
              "#46039f"
             ],
             [
              0.2222222222222222,
              "#7201a8"
             ],
             [
              0.3333333333333333,
              "#9c179e"
             ],
             [
              0.4444444444444444,
              "#bd3786"
             ],
             [
              0.5555555555555556,
              "#d8576b"
             ],
             [
              0.6666666666666666,
              "#ed7953"
             ],
             [
              0.7777777777777778,
              "#fb9f3a"
             ],
             [
              0.8888888888888888,
              "#fdca26"
             ],
             [
              1,
              "#f0f921"
             ]
            ],
            "type": "heatmap"
           }
          ],
          "heatmapgl": [
           {
            "colorbar": {
             "outlinewidth": 0,
             "ticks": ""
            },
            "colorscale": [
             [
              0,
              "#0d0887"
             ],
             [
              0.1111111111111111,
              "#46039f"
             ],
             [
              0.2222222222222222,
              "#7201a8"
             ],
             [
              0.3333333333333333,
              "#9c179e"
             ],
             [
              0.4444444444444444,
              "#bd3786"
             ],
             [
              0.5555555555555556,
              "#d8576b"
             ],
             [
              0.6666666666666666,
              "#ed7953"
             ],
             [
              0.7777777777777778,
              "#fb9f3a"
             ],
             [
              0.8888888888888888,
              "#fdca26"
             ],
             [
              1,
              "#f0f921"
             ]
            ],
            "type": "heatmapgl"
           }
          ],
          "histogram": [
           {
            "marker": {
             "pattern": {
              "fillmode": "overlay",
              "size": 10,
              "solidity": 0.2
             }
            },
            "type": "histogram"
           }
          ],
          "histogram2d": [
           {
            "colorbar": {
             "outlinewidth": 0,
             "ticks": ""
            },
            "colorscale": [
             [
              0,
              "#0d0887"
             ],
             [
              0.1111111111111111,
              "#46039f"
             ],
             [
              0.2222222222222222,
              "#7201a8"
             ],
             [
              0.3333333333333333,
              "#9c179e"
             ],
             [
              0.4444444444444444,
              "#bd3786"
             ],
             [
              0.5555555555555556,
              "#d8576b"
             ],
             [
              0.6666666666666666,
              "#ed7953"
             ],
             [
              0.7777777777777778,
              "#fb9f3a"
             ],
             [
              0.8888888888888888,
              "#fdca26"
             ],
             [
              1,
              "#f0f921"
             ]
            ],
            "type": "histogram2d"
           }
          ],
          "histogram2dcontour": [
           {
            "colorbar": {
             "outlinewidth": 0,
             "ticks": ""
            },
            "colorscale": [
             [
              0,
              "#0d0887"
             ],
             [
              0.1111111111111111,
              "#46039f"
             ],
             [
              0.2222222222222222,
              "#7201a8"
             ],
             [
              0.3333333333333333,
              "#9c179e"
             ],
             [
              0.4444444444444444,
              "#bd3786"
             ],
             [
              0.5555555555555556,
              "#d8576b"
             ],
             [
              0.6666666666666666,
              "#ed7953"
             ],
             [
              0.7777777777777778,
              "#fb9f3a"
             ],
             [
              0.8888888888888888,
              "#fdca26"
             ],
             [
              1,
              "#f0f921"
             ]
            ],
            "type": "histogram2dcontour"
           }
          ],
          "mesh3d": [
           {
            "colorbar": {
             "outlinewidth": 0,
             "ticks": ""
            },
            "type": "mesh3d"
           }
          ],
          "parcoords": [
           {
            "line": {
             "colorbar": {
              "outlinewidth": 0,
              "ticks": ""
             }
            },
            "type": "parcoords"
           }
          ],
          "pie": [
           {
            "automargin": true,
            "type": "pie"
           }
          ],
          "scatter": [
           {
            "fillpattern": {
             "fillmode": "overlay",
             "size": 10,
             "solidity": 0.2
            },
            "type": "scatter"
           }
          ],
          "scatter3d": [
           {
            "line": {
             "colorbar": {
              "outlinewidth": 0,
              "ticks": ""
             }
            },
            "marker": {
             "colorbar": {
              "outlinewidth": 0,
              "ticks": ""
             }
            },
            "type": "scatter3d"
           }
          ],
          "scattercarpet": [
           {
            "marker": {
             "colorbar": {
              "outlinewidth": 0,
              "ticks": ""
             }
            },
            "type": "scattercarpet"
           }
          ],
          "scattergeo": [
           {
            "marker": {
             "colorbar": {
              "outlinewidth": 0,
              "ticks": ""
             }
            },
            "type": "scattergeo"
           }
          ],
          "scattergl": [
           {
            "marker": {
             "colorbar": {
              "outlinewidth": 0,
              "ticks": ""
             }
            },
            "type": "scattergl"
           }
          ],
          "scattermapbox": [
           {
            "marker": {
             "colorbar": {
              "outlinewidth": 0,
              "ticks": ""
             }
            },
            "type": "scattermapbox"
           }
          ],
          "scatterpolar": [
           {
            "marker": {
             "colorbar": {
              "outlinewidth": 0,
              "ticks": ""
             }
            },
            "type": "scatterpolar"
           }
          ],
          "scatterpolargl": [
           {
            "marker": {
             "colorbar": {
              "outlinewidth": 0,
              "ticks": ""
             }
            },
            "type": "scatterpolargl"
           }
          ],
          "scatterternary": [
           {
            "marker": {
             "colorbar": {
              "outlinewidth": 0,
              "ticks": ""
             }
            },
            "type": "scatterternary"
           }
          ],
          "surface": [
           {
            "colorbar": {
             "outlinewidth": 0,
             "ticks": ""
            },
            "colorscale": [
             [
              0,
              "#0d0887"
             ],
             [
              0.1111111111111111,
              "#46039f"
             ],
             [
              0.2222222222222222,
              "#7201a8"
             ],
             [
              0.3333333333333333,
              "#9c179e"
             ],
             [
              0.4444444444444444,
              "#bd3786"
             ],
             [
              0.5555555555555556,
              "#d8576b"
             ],
             [
              0.6666666666666666,
              "#ed7953"
             ],
             [
              0.7777777777777778,
              "#fb9f3a"
             ],
             [
              0.8888888888888888,
              "#fdca26"
             ],
             [
              1,
              "#f0f921"
             ]
            ],
            "type": "surface"
           }
          ],
          "table": [
           {
            "cells": {
             "fill": {
              "color": "#EBF0F8"
             },
             "line": {
              "color": "white"
             }
            },
            "header": {
             "fill": {
              "color": "#C8D4E3"
             },
             "line": {
              "color": "white"
             }
            },
            "type": "table"
           }
          ]
         },
         "layout": {
          "annotationdefaults": {
           "arrowcolor": "#2a3f5f",
           "arrowhead": 0,
           "arrowwidth": 1
          },
          "autotypenumbers": "strict",
          "coloraxis": {
           "colorbar": {
            "outlinewidth": 0,
            "ticks": ""
           }
          },
          "colorscale": {
           "diverging": [
            [
             0,
             "#8e0152"
            ],
            [
             0.1,
             "#c51b7d"
            ],
            [
             0.2,
             "#de77ae"
            ],
            [
             0.3,
             "#f1b6da"
            ],
            [
             0.4,
             "#fde0ef"
            ],
            [
             0.5,
             "#f7f7f7"
            ],
            [
             0.6,
             "#e6f5d0"
            ],
            [
             0.7,
             "#b8e186"
            ],
            [
             0.8,
             "#7fbc41"
            ],
            [
             0.9,
             "#4d9221"
            ],
            [
             1,
             "#276419"
            ]
           ],
           "sequential": [
            [
             0,
             "#0d0887"
            ],
            [
             0.1111111111111111,
             "#46039f"
            ],
            [
             0.2222222222222222,
             "#7201a8"
            ],
            [
             0.3333333333333333,
             "#9c179e"
            ],
            [
             0.4444444444444444,
             "#bd3786"
            ],
            [
             0.5555555555555556,
             "#d8576b"
            ],
            [
             0.6666666666666666,
             "#ed7953"
            ],
            [
             0.7777777777777778,
             "#fb9f3a"
            ],
            [
             0.8888888888888888,
             "#fdca26"
            ],
            [
             1,
             "#f0f921"
            ]
           ],
           "sequentialminus": [
            [
             0,
             "#0d0887"
            ],
            [
             0.1111111111111111,
             "#46039f"
            ],
            [
             0.2222222222222222,
             "#7201a8"
            ],
            [
             0.3333333333333333,
             "#9c179e"
            ],
            [
             0.4444444444444444,
             "#bd3786"
            ],
            [
             0.5555555555555556,
             "#d8576b"
            ],
            [
             0.6666666666666666,
             "#ed7953"
            ],
            [
             0.7777777777777778,
             "#fb9f3a"
            ],
            [
             0.8888888888888888,
             "#fdca26"
            ],
            [
             1,
             "#f0f921"
            ]
           ]
          },
          "colorway": [
           "#636efa",
           "#EF553B",
           "#00cc96",
           "#ab63fa",
           "#FFA15A",
           "#19d3f3",
           "#FF6692",
           "#B6E880",
           "#FF97FF",
           "#FECB52"
          ],
          "font": {
           "color": "#2a3f5f"
          },
          "geo": {
           "bgcolor": "white",
           "lakecolor": "white",
           "landcolor": "#E5ECF6",
           "showlakes": true,
           "showland": true,
           "subunitcolor": "white"
          },
          "hoverlabel": {
           "align": "left"
          },
          "hovermode": "closest",
          "mapbox": {
           "style": "light"
          },
          "paper_bgcolor": "white",
          "plot_bgcolor": "#E5ECF6",
          "polar": {
           "angularaxis": {
            "gridcolor": "white",
            "linecolor": "white",
            "ticks": ""
           },
           "bgcolor": "#E5ECF6",
           "radialaxis": {
            "gridcolor": "white",
            "linecolor": "white",
            "ticks": ""
           }
          },
          "scene": {
           "xaxis": {
            "backgroundcolor": "#E5ECF6",
            "gridcolor": "white",
            "gridwidth": 2,
            "linecolor": "white",
            "showbackground": true,
            "ticks": "",
            "zerolinecolor": "white"
           },
           "yaxis": {
            "backgroundcolor": "#E5ECF6",
            "gridcolor": "white",
            "gridwidth": 2,
            "linecolor": "white",
            "showbackground": true,
            "ticks": "",
            "zerolinecolor": "white"
           },
           "zaxis": {
            "backgroundcolor": "#E5ECF6",
            "gridcolor": "white",
            "gridwidth": 2,
            "linecolor": "white",
            "showbackground": true,
            "ticks": "",
            "zerolinecolor": "white"
           }
          },
          "shapedefaults": {
           "line": {
            "color": "#2a3f5f"
           }
          },
          "ternary": {
           "aaxis": {
            "gridcolor": "white",
            "linecolor": "white",
            "ticks": ""
           },
           "baxis": {
            "gridcolor": "white",
            "linecolor": "white",
            "ticks": ""
           },
           "bgcolor": "#E5ECF6",
           "caxis": {
            "gridcolor": "white",
            "linecolor": "white",
            "ticks": ""
           }
          },
          "title": {
           "x": 0.05
          },
          "xaxis": {
           "automargin": true,
           "gridcolor": "white",
           "linecolor": "white",
           "ticks": "",
           "title": {
            "standoff": 15
           },
           "zerolinecolor": "white",
           "zerolinewidth": 2
          },
          "yaxis": {
           "automargin": true,
           "gridcolor": "white",
           "linecolor": "white",
           "ticks": "",
           "title": {
            "standoff": 15
           },
           "zerolinecolor": "white",
           "zerolinewidth": 2
          }
         }
        },
        "title": {
         "text": "Projects Deployed on Optimism in 2022                         <br><sup>Plot Greater Than 100 Transactions per Day</sup>"
        },
        "width": 800,
        "xaxis": {
         "anchor": "y",
         "domain": [
          0,
          1
         ],
         "title": {
          "text": "Deployment Date"
         }
        },
        "yaxis": {
         "anchor": "x",
         "domain": [
          0,
          1
         ],
         "title": {
          "text": "Transactions per Day"
         }
        }
       }
      }
     },
     "metadata": {},
     "output_type": "display_data"
    }
   ],
   "source": [
    "fig = px.scatter(df, x=\"date\", y=\"txs_per_day\",\n",
    "\t        #  size=\"pop\", \n",
    "                 color=\"type\",\n",
    "                 hover_name=\"project\",\n",
    "                #  size_max=60\n",
    "                labels={\"date\":\"Deployment Date\", \"txs_per_day\":\"Transactions per Day\", \"type\":\"App Type\"}\n",
    "                ,title = \"Projects Deployed on Optimism in 2022 \\\n",
    "                        <br><sup>Project With Greater Than 100 Transactions per Day Since Deployment</sup>\"\n",
    "                , width=800, height=400\n",
    "                 )\n",
    "project_annotations = ['Velodrome','Pooltogether','Galxe','Aave','Curve','Beethoven X','Kwenta','Opensea','Atlantis World']\n",
    "for p in project_annotations:\n",
    "        fig.add_annotation(x=df[df['project'] == p]['date'].iloc[0], y=df[df['project'] == p]['txs_per_day'].iloc[0],\n",
    "                text=p,\n",
    "                showarrow=False,\n",
    "                yshift=12,\n",
    "                bgcolor=\"#E6ECF5\",\n",
    "                opacity=0.9\n",
    "                )\n",
    "fig.show()\n",
    "if not os.path.exists(\"img_outputs\"):\n",
    "        os.mkdir(\"img_outputs\")\n",
    "fig.write_image(\"img_outputs/op_deployments_2022.svg\")\n",
    "fig.write_image(\"img_outputs/op_deployments_2022.png\")"
   ]
  }
 ],
 "metadata": {
  "kernelspec": {
   "display_name": "base",
   "language": "python",
   "name": "python3"
  },
  "language_info": {
   "codemirror_mode": {
    "name": "ipython",
    "version": 3
   },
   "file_extension": ".py",
   "mimetype": "text/x-python",
   "name": "python",
   "nbconvert_exporter": "python",
   "pygments_lexer": "ipython3",
   "version": "3.9.13"
  },
  "orig_nbformat": 4,
  "vscode": {
   "interpreter": {
    "hash": "17c021eea7371cec353b12daa8dd7517ddfe82cfa4c2626e1e7d1541ccab7c49"
   }
  }
 },
 "nbformat": 4,
 "nbformat_minor": 2
}
