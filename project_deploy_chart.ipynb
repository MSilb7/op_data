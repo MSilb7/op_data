{
 "cells": [
  {
   "cell_type": "code",
   "execution_count": 357,
   "metadata": {},
   "outputs": [],
   "source": [
    "import pandas as pd\n",
    "import plotly.express as px\n",
    "import os\n",
    "\n",
    "min_txs_per_day = 100"
   ]
  },
  {
   "cell_type": "code",
   "execution_count": 358,
   "metadata": {},
   "outputs": [
    {
     "data": {
      "text/html": [
       "<div>\n",
       "<style scoped>\n",
       "    .dataframe tbody tr th:only-of-type {\n",
       "        vertical-align: middle;\n",
       "    }\n",
       "\n",
       "    .dataframe tbody tr th {\n",
       "        vertical-align: top;\n",
       "    }\n",
       "\n",
       "    .dataframe thead th {\n",
       "        text-align: right;\n",
       "    }\n",
       "</style>\n",
       "<table border=\"1\" class=\"dataframe\">\n",
       "  <thead>\n",
       "    <tr style=\"text-align: right;\">\n",
       "      <th></th>\n",
       "      <th>project</th>\n",
       "      <th>launch_time</th>\n",
       "      <th>num_contracts</th>\n",
       "      <th>type</th>\n",
       "      <th>num_transactions</th>\n",
       "      <th>txs_per_day</th>\n",
       "      <th>time_elapsed</th>\n",
       "      <th>year</th>\n",
       "      <th>date</th>\n",
       "    </tr>\n",
       "  </thead>\n",
       "  <tbody>\n",
       "    <tr>\n",
       "      <th>164</th>\n",
       "      <td>Op</td>\n",
       "      <td>2022-04-26T13:30:36Z</td>\n",
       "      <td>6</td>\n",
       "      <td>Contract Project</td>\n",
       "      <td>1047796.0</td>\n",
       "      <td>4608.858611</td>\n",
       "      <td>227.343924</td>\n",
       "      <td>2022</td>\n",
       "      <td>2022-04-26</td>\n",
       "    </tr>\n",
       "    <tr>\n",
       "      <th>57</th>\n",
       "      <td>0x</td>\n",
       "      <td>2021-12-22T05:13:01Z</td>\n",
       "      <td>51</td>\n",
       "      <td>Contract Project</td>\n",
       "      <td>214240.0</td>\n",
       "      <td>607.446549</td>\n",
       "      <td>352.689468</td>\n",
       "      <td>2021</td>\n",
       "      <td>2021-12-22</td>\n",
       "    </tr>\n",
       "    <tr>\n",
       "      <th>104</th>\n",
       "      <td>Rubicon</td>\n",
       "      <td>2021-08-16T19:18:41Z</td>\n",
       "      <td>150</td>\n",
       "      <td>Contract Project</td>\n",
       "      <td>942330.0</td>\n",
       "      <td>1962.769597</td>\n",
       "      <td>480.102199</td>\n",
       "      <td>2021</td>\n",
       "      <td>2021-08-16</td>\n",
       "    </tr>\n",
       "    <tr>\n",
       "      <th>183</th>\n",
       "      <td>Gnosis Safe</td>\n",
       "      <td>2021-11-17T11:17:03Z</td>\n",
       "      <td>17270</td>\n",
       "      <td>Contract Project</td>\n",
       "      <td>71350.0</td>\n",
       "      <td>184.159131</td>\n",
       "      <td>387.436667</td>\n",
       "      <td>2021</td>\n",
       "      <td>2021-11-17</td>\n",
       "    </tr>\n",
       "    <tr>\n",
       "      <th>193</th>\n",
       "      <td>Socket</td>\n",
       "      <td>2021-12-20T09:43:11Z</td>\n",
       "      <td>34</td>\n",
       "      <td>Contract Project</td>\n",
       "      <td>279258.0</td>\n",
       "      <td>787.747648</td>\n",
       "      <td>354.501852</td>\n",
       "      <td>2021</td>\n",
       "      <td>2021-12-20</td>\n",
       "    </tr>\n",
       "    <tr>\n",
       "      <th>197</th>\n",
       "      <td>Kyberswap</td>\n",
       "      <td>2022-06-16T07:54:02Z</td>\n",
       "      <td>67</td>\n",
       "      <td>Contract Project</td>\n",
       "      <td>20305.0</td>\n",
       "      <td>114.991903</td>\n",
       "      <td>176.577650</td>\n",
       "      <td>2022</td>\n",
       "      <td>2022-06-16</td>\n",
       "    </tr>\n",
       "    <tr>\n",
       "      <th>243</th>\n",
       "      <td>Ecc Domains</td>\n",
       "      <td>2022-08-10T09:44:58Z</td>\n",
       "      <td>2</td>\n",
       "      <td>Contract Project</td>\n",
       "      <td>15655.0</td>\n",
       "      <td>128.847086</td>\n",
       "      <td>121.500613</td>\n",
       "      <td>2022</td>\n",
       "      <td>2022-08-10</td>\n",
       "    </tr>\n",
       "    <tr>\n",
       "      <th>103</th>\n",
       "      <td>Zerion</td>\n",
       "      <td>2022-03-09T12:56:29Z</td>\n",
       "      <td>1</td>\n",
       "      <td>Contract Project</td>\n",
       "      <td>35112.0</td>\n",
       "      <td>127.509547</td>\n",
       "      <td>275.367616</td>\n",
       "      <td>2022</td>\n",
       "      <td>2022-03-09</td>\n",
       "    </tr>\n",
       "    <tr>\n",
       "      <th>144</th>\n",
       "      <td>Velodrome</td>\n",
       "      <td>2022-06-01T20:01:23Z</td>\n",
       "      <td>1812</td>\n",
       "      <td>Contract Project</td>\n",
       "      <td>2690760.0</td>\n",
       "      <td>14082.399864</td>\n",
       "      <td>191.072546</td>\n",
       "      <td>2022</td>\n",
       "      <td>2022-06-01</td>\n",
       "    </tr>\n",
       "    <tr>\n",
       "      <th>61</th>\n",
       "      <td>Early Optimists</td>\n",
       "      <td>2022-08-31T17:19:17Z</td>\n",
       "      <td>1</td>\n",
       "      <td>NFT Only Project</td>\n",
       "      <td>51450.0</td>\n",
       "      <td>513.549339</td>\n",
       "      <td>100.185116</td>\n",
       "      <td>2022</td>\n",
       "      <td>2022-08-31</td>\n",
       "    </tr>\n",
       "  </tbody>\n",
       "</table>\n",
       "</div>"
      ],
      "text/plain": [
       "             project           launch_time  num_contracts              type  \\\n",
       "164               Op  2022-04-26T13:30:36Z              6  Contract Project   \n",
       "57                0x  2021-12-22T05:13:01Z             51  Contract Project   \n",
       "104          Rubicon  2021-08-16T19:18:41Z            150  Contract Project   \n",
       "183      Gnosis Safe  2021-11-17T11:17:03Z          17270  Contract Project   \n",
       "193           Socket  2021-12-20T09:43:11Z             34  Contract Project   \n",
       "197        Kyberswap  2022-06-16T07:54:02Z             67  Contract Project   \n",
       "243      Ecc Domains  2022-08-10T09:44:58Z              2  Contract Project   \n",
       "103           Zerion  2022-03-09T12:56:29Z              1  Contract Project   \n",
       "144        Velodrome  2022-06-01T20:01:23Z           1812  Contract Project   \n",
       "61   Early Optimists  2022-08-31T17:19:17Z              1  NFT Only Project   \n",
       "\n",
       "     num_transactions   txs_per_day  time_elapsed  year       date  \n",
       "164         1047796.0   4608.858611    227.343924  2022 2022-04-26  \n",
       "57           214240.0    607.446549    352.689468  2021 2021-12-22  \n",
       "104          942330.0   1962.769597    480.102199  2021 2021-08-16  \n",
       "183           71350.0    184.159131    387.436667  2021 2021-11-17  \n",
       "193          279258.0    787.747648    354.501852  2021 2021-12-20  \n",
       "197           20305.0    114.991903    176.577650  2022 2022-06-16  \n",
       "243           15655.0    128.847086    121.500613  2022 2022-08-10  \n",
       "103           35112.0    127.509547    275.367616  2022 2022-03-09  \n",
       "144         2690760.0  14082.399864    191.072546  2022 2022-06-01  \n",
       "61            51450.0    513.549339    100.185116  2022 2022-08-31  "
      ]
     },
     "execution_count": 358,
     "metadata": {},
     "output_type": "execute_result"
    }
   ],
   "source": [
    "df = pd.read_csv('csv_exports/project_deploys_2022_12_09.csv')\n",
    "\n",
    "df = df[ (df['txs_per_day'] >= min_txs_per_day)]\n",
    "# df = df[ (df['type'] == 'Contract Project')]\n",
    "df['year'] = df['launch_time'].str[:4]\n",
    "df['date'] = pd.to_datetime( df['launch_time'].str[:10] )\n",
    "\n",
    "df.sample(10)"
   ]
  },
  {
   "cell_type": "code",
   "execution_count": 359,
   "metadata": {},
   "outputs": [],
   "source": [
    "df['type'] = df['type'].str.replace('Contract Project','dApp')\n",
    "df['type'] = df['type'].str.replace('NFT Only Project','NFT Project')"
   ]
  },
  {
   "cell_type": "code",
   "execution_count": 360,
   "metadata": {},
   "outputs": [],
   "source": [
    "exclude_list = ['Op','Optimistic Explorer']\n",
    "\n",
    "df = df[~df['project'].isin(exclude_list)]"
   ]
  },
  {
   "cell_type": "code",
   "execution_count": 361,
   "metadata": {},
   "outputs": [
    {
     "name": "stdout",
     "output_type": "stream",
     "text": [
      "      project  launch_time  num_contracts  type  num_transactions  \\\n",
      "year                                                                \n",
      "2021       25           25             25    25                25   \n",
      "2022       55           55             55    55                55   \n",
      "\n",
      "      txs_per_day  time_elapsed  date  \n",
      "year                                   \n",
      "2021           25            25    25  \n",
      "2022           55            55    55  \n"
     ]
    }
   ],
   "source": [
    "print(df.groupby(by='year').count())\n",
    "df = df[df['year'] == '2022']\n",
    "# display(df)"
   ]
  },
  {
   "cell_type": "code",
   "execution_count": 362,
   "metadata": {},
   "outputs": [
    {
     "data": {
      "application/vnd.plotly.v1+json": {
       "config": {
        "plotlyServerURL": "https://plot.ly"
       },
       "data": [
        {
         "hovertemplate": "<b>%{hovertext}</b><br><br>App Type=dApp<br>Deployment Date=%{x}<br>Transactions per Day=%{y}<extra></extra>",
         "hovertext": [
          "Paraswap",
          "Chainhop",
          "Clipper",
          "Polynomial Protocol",
          "Sushi",
          "Hashflow",
          "Teleportr/ Warp Speed",
          "Nested",
          "Quest3",
          "Curve",
          "Reaper Farm",
          "Zerion",
          "Beethoven X",
          "Opensea",
          "Gelato",
          "Tarot Finance",
          "Ripae",
          "Velodrome",
          "Kwenta",
          "Qidao",
          "Pooltogether",
          "Beefy Finance",
          "Mirror",
          "Wardenswap",
          "Optimismpad",
          "Unidex",
          "Kyberswap",
          "Granary",
          "Web3 Savings Protocol",
          "Opx Finance",
          "Aave",
          "Nex",
          "Thirdweb",
          "Stargate Finance",
          "Ecc Domains",
          "Odos",
          "Homora V2",
          "Revert Finance",
          "Sonne Finance",
          "Biconomy - Hyphen",
          "Galxe",
          "Layer Zero",
          "Holozaki",
          "Openxproject",
          "Apetimism Launchapd",
          "Lifi"
         ],
         "legendgroup": "dApp",
         "marker": {
          "color": "#636efa",
          "symbol": "circle"
         },
         "mode": "markers",
         "name": "dApp",
         "orientation": "v",
         "showlegend": true,
         "type": "scatter",
         "x": [
          "2022-07-15T00:00:00",
          "2022-05-11T00:00:00",
          "2022-02-04T00:00:00",
          "2022-03-29T00:00:00",
          "2022-05-04T00:00:00",
          "2022-05-02T00:00:00",
          "2022-04-16T00:00:00",
          "2022-04-07T00:00:00",
          "2022-03-31T00:00:00",
          "2022-01-17T00:00:00",
          "2022-07-04T00:00:00",
          "2022-03-09T00:00:00",
          "2022-04-23T00:00:00",
          "2022-06-27T00:00:00",
          "2022-01-09T00:00:00",
          "2022-05-06T00:00:00",
          "2022-08-04T00:00:00",
          "2022-06-01T00:00:00",
          "2022-02-12T00:00:00",
          "2022-04-05T00:00:00",
          "2022-07-01T00:00:00",
          "2022-06-24T00:00:00",
          "2022-01-19T00:00:00",
          "2022-04-11T00:00:00",
          "2022-08-14T00:00:00",
          "2022-10-24T00:00:00",
          "2022-06-16T00:00:00",
          "2022-05-26T00:00:00",
          "2022-11-16T00:00:00",
          "2022-11-02T00:00:00",
          "2022-03-04T00:00:00",
          "2022-08-31T00:00:00",
          "2022-06-23T00:00:00",
          "2022-03-15T00:00:00",
          "2022-08-10T00:00:00",
          "2022-10-06T00:00:00",
          "2022-07-07T00:00:00",
          "2022-07-15T00:00:00",
          "2022-09-25T00:00:00",
          "2022-06-13T00:00:00",
          "2022-07-18T00:00:00",
          "2022-03-15T00:00:00",
          "2022-06-05T00:00:00",
          "2022-08-19T00:00:00",
          "2022-07-29T00:00:00",
          "2022-01-12T00:00:00"
         ],
         "xaxis": "x",
         "y": [
          101.1957950158662,
          333.8381545183246,
          1164.861787607124,
          416.67362331391854,
          105.60207056933388,
          153.11831143076466,
          270.0434707947724,
          176.72263061593068,
          238.2205400293594,
          762.218936789303,
          150.5004967207802,
          127.5095472121821,
          1794.445800675281,
          138.54451942477743,
          196.3941430301849,
          797.4041196881313,
          171.11333163462072,
          14082.399864119869,
          740.3936566836205,
          580.9384639303381,
          2018.1464188487123,
          424.6593728714564,
          800.8058087355408,
          119.5681174027755,
          205.01646555423352,
          193.86069809286775,
          114.99190269415756,
          2492.7277206562044,
          139.3012581159179,
          1464.8542622740913,
          2195.326498937923,
          1551.7918006319944,
          104.76991314896448,
          1707.3541217762008,
          128.84708610581814,
          6748.665791196876,
          119.64614174713962,
          136.95817804001717,
          675.8476200930232,
          634.3544370510358,
          10584.037167907863,
          1308.8271855953049,
          130.7996703977659,
          103.51038412056609,
          263.8470154266824,
          282.41175685122494
         ],
         "yaxis": "y"
        },
        {
         "hovertemplate": "<b>%{hovertext}</b><br><br>App Type=NFT Project<br>Deployment Date=%{x}<br>Transactions per Day=%{y}<extra></extra>",
         "hovertext": [
          "RabbitHole Credentials: L2",
          "OptiChads",
          "OaycNFT",
          "Early Optimists",
          "Alpha Gal",
          "OP Delegatooors",
          "OP Horse Kingdom",
          "OP Bridgooor",
          "Atlantis World"
         ],
         "legendgroup": "NFT Project",
         "marker": {
          "color": "#EF553B",
          "symbol": "circle"
         },
         "mode": "markers",
         "name": "NFT Project",
         "orientation": "v",
         "showlegend": true,
         "type": "scatter",
         "x": [
          "2022-10-04T00:00:00",
          "2022-08-02T00:00:00",
          "2022-10-15T00:00:00",
          "2022-08-31T00:00:00",
          "2022-08-31T00:00:00",
          "2022-09-20T00:00:00",
          "2022-10-27T00:00:00",
          "2022-11-02T00:00:00",
          "2022-11-01T00:00:00"
         ],
         "xaxis": "x",
         "y": [
          400.8186614373047,
          100.47398537755912,
          256.645751721586,
          513.5493393364183,
          149.82160059983167,
          444.36178395459285,
          123.89885329248936,
          360.7141153661623,
          437.9259618683616
         ],
         "yaxis": "y"
        }
       ],
       "layout": {
        "annotations": [
         {
          "bgcolor": "#E6ECF5",
          "opacity": 0.9,
          "showarrow": false,
          "text": "Velodrome",
          "x": "2022-06-01T00:00:00",
          "y": 14082.399864119869,
          "yshift": 12
         },
         {
          "bgcolor": "#E6ECF5",
          "opacity": 0.9,
          "showarrow": false,
          "text": "Pooltogether",
          "x": "2022-07-01T00:00:00",
          "y": 2018.1464188487123,
          "yshift": 12
         },
         {
          "bgcolor": "#E6ECF5",
          "opacity": 0.9,
          "showarrow": false,
          "text": "Galxe",
          "x": "2022-07-18T00:00:00",
          "y": 10584.037167907863,
          "yshift": 12
         },
         {
          "bgcolor": "#E6ECF5",
          "opacity": 0.9,
          "showarrow": false,
          "text": "Aave",
          "x": "2022-03-04T00:00:00",
          "y": 2195.326498937923,
          "yshift": 12
         },
         {
          "bgcolor": "#E6ECF5",
          "opacity": 0.9,
          "showarrow": false,
          "text": "Curve",
          "x": "2022-01-17T00:00:00",
          "y": 762.218936789303,
          "yshift": 12
         },
         {
          "bgcolor": "#E6ECF5",
          "opacity": 0.9,
          "showarrow": false,
          "text": "Beethoven X",
          "x": "2022-04-23T00:00:00",
          "y": 1794.445800675281,
          "yshift": 12
         },
         {
          "bgcolor": "#E6ECF5",
          "opacity": 0.9,
          "showarrow": false,
          "text": "Kwenta",
          "x": "2022-02-12T00:00:00",
          "y": 740.3936566836205,
          "yshift": 12
         },
         {
          "bgcolor": "#E6ECF5",
          "opacity": 0.9,
          "showarrow": false,
          "text": "Opensea",
          "x": "2022-06-27T00:00:00",
          "y": 138.54451942477743,
          "yshift": 12
         },
         {
          "bgcolor": "#E6ECF5",
          "opacity": 0.9,
          "showarrow": false,
          "text": "Atlantis World",
          "x": "2022-11-01T00:00:00",
          "y": 437.9259618683616,
          "yshift": 12
         }
        ],
        "height": 600,
        "legend": {
         "title": {
          "text": "App Type"
         },
         "tracegroupgap": 0
        },
        "template": {
         "data": {
          "bar": [
           {
            "error_x": {
             "color": "#2a3f5f"
            },
            "error_y": {
             "color": "#2a3f5f"
            },
            "marker": {
             "line": {
              "color": "#E5ECF6",
              "width": 0.5
             },
             "pattern": {
              "fillmode": "overlay",
              "size": 10,
              "solidity": 0.2
             }
            },
            "type": "bar"
           }
          ],
          "barpolar": [
           {
            "marker": {
             "line": {
              "color": "#E5ECF6",
              "width": 0.5
             },
             "pattern": {
              "fillmode": "overlay",
              "size": 10,
              "solidity": 0.2
             }
            },
            "type": "barpolar"
           }
          ],
          "carpet": [
           {
            "aaxis": {
             "endlinecolor": "#2a3f5f",
             "gridcolor": "white",
             "linecolor": "white",
             "minorgridcolor": "white",
             "startlinecolor": "#2a3f5f"
            },
            "baxis": {
             "endlinecolor": "#2a3f5f",
             "gridcolor": "white",
             "linecolor": "white",
             "minorgridcolor": "white",
             "startlinecolor": "#2a3f5f"
            },
            "type": "carpet"
           }
          ],
          "choropleth": [
           {
            "colorbar": {
             "outlinewidth": 0,
             "ticks": ""
            },
            "type": "choropleth"
           }
          ],
          "contour": [
           {
            "colorbar": {
             "outlinewidth": 0,
             "ticks": ""
            },
            "colorscale": [
             [
              0,
              "#0d0887"
             ],
             [
              0.1111111111111111,
              "#46039f"
             ],
             [
              0.2222222222222222,
              "#7201a8"
             ],
             [
              0.3333333333333333,
              "#9c179e"
             ],
             [
              0.4444444444444444,
              "#bd3786"
             ],
             [
              0.5555555555555556,
              "#d8576b"
             ],
             [
              0.6666666666666666,
              "#ed7953"
             ],
             [
              0.7777777777777778,
              "#fb9f3a"
             ],
             [
              0.8888888888888888,
              "#fdca26"
             ],
             [
              1,
              "#f0f921"
             ]
            ],
            "type": "contour"
           }
          ],
          "contourcarpet": [
           {
            "colorbar": {
             "outlinewidth": 0,
             "ticks": ""
            },
            "type": "contourcarpet"
           }
          ],
          "heatmap": [
           {
            "colorbar": {
             "outlinewidth": 0,
             "ticks": ""
            },
            "colorscale": [
             [
              0,
              "#0d0887"
             ],
             [
              0.1111111111111111,
              "#46039f"
             ],
             [
              0.2222222222222222,
              "#7201a8"
             ],
             [
              0.3333333333333333,
              "#9c179e"
             ],
             [
              0.4444444444444444,
              "#bd3786"
             ],
             [
              0.5555555555555556,
              "#d8576b"
             ],
             [
              0.6666666666666666,
              "#ed7953"
             ],
             [
              0.7777777777777778,
              "#fb9f3a"
             ],
             [
              0.8888888888888888,
              "#fdca26"
             ],
             [
              1,
              "#f0f921"
             ]
            ],
            "type": "heatmap"
           }
          ],
          "heatmapgl": [
           {
            "colorbar": {
             "outlinewidth": 0,
             "ticks": ""
            },
            "colorscale": [
             [
              0,
              "#0d0887"
             ],
             [
              0.1111111111111111,
              "#46039f"
             ],
             [
              0.2222222222222222,
              "#7201a8"
             ],
             [
              0.3333333333333333,
              "#9c179e"
             ],
             [
              0.4444444444444444,
              "#bd3786"
             ],
             [
              0.5555555555555556,
              "#d8576b"
             ],
             [
              0.6666666666666666,
              "#ed7953"
             ],
             [
              0.7777777777777778,
              "#fb9f3a"
             ],
             [
              0.8888888888888888,
              "#fdca26"
             ],
             [
              1,
              "#f0f921"
             ]
            ],
            "type": "heatmapgl"
           }
          ],
          "histogram": [
           {
            "marker": {
             "pattern": {
              "fillmode": "overlay",
              "size": 10,
              "solidity": 0.2
             }
            },
            "type": "histogram"
           }
          ],
          "histogram2d": [
           {
            "colorbar": {
             "outlinewidth": 0,
             "ticks": ""
            },
            "colorscale": [
             [
              0,
              "#0d0887"
             ],
             [
              0.1111111111111111,
              "#46039f"
             ],
             [
              0.2222222222222222,
              "#7201a8"
             ],
             [
              0.3333333333333333,
              "#9c179e"
             ],
             [
              0.4444444444444444,
              "#bd3786"
             ],
             [
              0.5555555555555556,
              "#d8576b"
             ],
             [
              0.6666666666666666,
              "#ed7953"
             ],
             [
              0.7777777777777778,
              "#fb9f3a"
             ],
             [
              0.8888888888888888,
              "#fdca26"
             ],
             [
              1,
              "#f0f921"
             ]
            ],
            "type": "histogram2d"
           }
          ],
          "histogram2dcontour": [
           {
            "colorbar": {
             "outlinewidth": 0,
             "ticks": ""
            },
            "colorscale": [
             [
              0,
              "#0d0887"
             ],
             [
              0.1111111111111111,
              "#46039f"
             ],
             [
              0.2222222222222222,
              "#7201a8"
             ],
             [
              0.3333333333333333,
              "#9c179e"
             ],
             [
              0.4444444444444444,
              "#bd3786"
             ],
             [
              0.5555555555555556,
              "#d8576b"
             ],
             [
              0.6666666666666666,
              "#ed7953"
             ],
             [
              0.7777777777777778,
              "#fb9f3a"
             ],
             [
              0.8888888888888888,
              "#fdca26"
             ],
             [
              1,
              "#f0f921"
             ]
            ],
            "type": "histogram2dcontour"
           }
          ],
          "mesh3d": [
           {
            "colorbar": {
             "outlinewidth": 0,
             "ticks": ""
            },
            "type": "mesh3d"
           }
          ],
          "parcoords": [
           {
            "line": {
             "colorbar": {
              "outlinewidth": 0,
              "ticks": ""
             }
            },
            "type": "parcoords"
           }
          ],
          "pie": [
           {
            "automargin": true,
            "type": "pie"
           }
          ],
          "scatter": [
           {
            "fillpattern": {
             "fillmode": "overlay",
             "size": 10,
             "solidity": 0.2
            },
            "type": "scatter"
           }
          ],
          "scatter3d": [
           {
            "line": {
             "colorbar": {
              "outlinewidth": 0,
              "ticks": ""
             }
            },
            "marker": {
             "colorbar": {
              "outlinewidth": 0,
              "ticks": ""
             }
            },
            "type": "scatter3d"
           }
          ],
          "scattercarpet": [
           {
            "marker": {
             "colorbar": {
              "outlinewidth": 0,
              "ticks": ""
             }
            },
            "type": "scattercarpet"
           }
          ],
          "scattergeo": [
           {
            "marker": {
             "colorbar": {
              "outlinewidth": 0,
              "ticks": ""
             }
            },
            "type": "scattergeo"
           }
          ],
          "scattergl": [
           {
            "marker": {
             "colorbar": {
              "outlinewidth": 0,
              "ticks": ""
             }
            },
            "type": "scattergl"
           }
          ],
          "scattermapbox": [
           {
            "marker": {
             "colorbar": {
              "outlinewidth": 0,
              "ticks": ""
             }
            },
            "type": "scattermapbox"
           }
          ],
          "scatterpolar": [
           {
            "marker": {
             "colorbar": {
              "outlinewidth": 0,
              "ticks": ""
             }
            },
            "type": "scatterpolar"
           }
          ],
          "scatterpolargl": [
           {
            "marker": {
             "colorbar": {
              "outlinewidth": 0,
              "ticks": ""
             }
            },
            "type": "scatterpolargl"
           }
          ],
          "scatterternary": [
           {
            "marker": {
             "colorbar": {
              "outlinewidth": 0,
              "ticks": ""
             }
            },
            "type": "scatterternary"
           }
          ],
          "surface": [
           {
            "colorbar": {
             "outlinewidth": 0,
             "ticks": ""
            },
            "colorscale": [
             [
              0,
              "#0d0887"
             ],
             [
              0.1111111111111111,
              "#46039f"
             ],
             [
              0.2222222222222222,
              "#7201a8"
             ],
             [
              0.3333333333333333,
              "#9c179e"
             ],
             [
              0.4444444444444444,
              "#bd3786"
             ],
             [
              0.5555555555555556,
              "#d8576b"
             ],
             [
              0.6666666666666666,
              "#ed7953"
             ],
             [
              0.7777777777777778,
              "#fb9f3a"
             ],
             [
              0.8888888888888888,
              "#fdca26"
             ],
             [
              1,
              "#f0f921"
             ]
            ],
            "type": "surface"
           }
          ],
          "table": [
           {
            "cells": {
             "fill": {
              "color": "#EBF0F8"
             },
             "line": {
              "color": "white"
             }
            },
            "header": {
             "fill": {
              "color": "#C8D4E3"
             },
             "line": {
              "color": "white"
             }
            },
            "type": "table"
           }
          ]
         },
         "layout": {
          "annotationdefaults": {
           "arrowcolor": "#2a3f5f",
           "arrowhead": 0,
           "arrowwidth": 1
          },
          "autotypenumbers": "strict",
          "coloraxis": {
           "colorbar": {
            "outlinewidth": 0,
            "ticks": ""
           }
          },
          "colorscale": {
           "diverging": [
            [
             0,
             "#8e0152"
            ],
            [
             0.1,
             "#c51b7d"
            ],
            [
             0.2,
             "#de77ae"
            ],
            [
             0.3,
             "#f1b6da"
            ],
            [
             0.4,
             "#fde0ef"
            ],
            [
             0.5,
             "#f7f7f7"
            ],
            [
             0.6,
             "#e6f5d0"
            ],
            [
             0.7,
             "#b8e186"
            ],
            [
             0.8,
             "#7fbc41"
            ],
            [
             0.9,
             "#4d9221"
            ],
            [
             1,
             "#276419"
            ]
           ],
           "sequential": [
            [
             0,
             "#0d0887"
            ],
            [
             0.1111111111111111,
             "#46039f"
            ],
            [
             0.2222222222222222,
             "#7201a8"
            ],
            [
             0.3333333333333333,
             "#9c179e"
            ],
            [
             0.4444444444444444,
             "#bd3786"
            ],
            [
             0.5555555555555556,
             "#d8576b"
            ],
            [
             0.6666666666666666,
             "#ed7953"
            ],
            [
             0.7777777777777778,
             "#fb9f3a"
            ],
            [
             0.8888888888888888,
             "#fdca26"
            ],
            [
             1,
             "#f0f921"
            ]
           ],
           "sequentialminus": [
            [
             0,
             "#0d0887"
            ],
            [
             0.1111111111111111,
             "#46039f"
            ],
            [
             0.2222222222222222,
             "#7201a8"
            ],
            [
             0.3333333333333333,
             "#9c179e"
            ],
            [
             0.4444444444444444,
             "#bd3786"
            ],
            [
             0.5555555555555556,
             "#d8576b"
            ],
            [
             0.6666666666666666,
             "#ed7953"
            ],
            [
             0.7777777777777778,
             "#fb9f3a"
            ],
            [
             0.8888888888888888,
             "#fdca26"
            ],
            [
             1,
             "#f0f921"
            ]
           ]
          },
          "colorway": [
           "#636efa",
           "#EF553B",
           "#00cc96",
           "#ab63fa",
           "#FFA15A",
           "#19d3f3",
           "#FF6692",
           "#B6E880",
           "#FF97FF",
           "#FECB52"
          ],
          "font": {
           "color": "#2a3f5f"
          },
          "geo": {
           "bgcolor": "white",
           "lakecolor": "white",
           "landcolor": "#E5ECF6",
           "showlakes": true,
           "showland": true,
           "subunitcolor": "white"
          },
          "hoverlabel": {
           "align": "left"
          },
          "hovermode": "closest",
          "mapbox": {
           "style": "light"
          },
          "paper_bgcolor": "white",
          "plot_bgcolor": "#E5ECF6",
          "polar": {
           "angularaxis": {
            "gridcolor": "white",
            "linecolor": "white",
            "ticks": ""
           },
           "bgcolor": "#E5ECF6",
           "radialaxis": {
            "gridcolor": "white",
            "linecolor": "white",
            "ticks": ""
           }
          },
          "scene": {
           "xaxis": {
            "backgroundcolor": "#E5ECF6",
            "gridcolor": "white",
            "gridwidth": 2,
            "linecolor": "white",
            "showbackground": true,
            "ticks": "",
            "zerolinecolor": "white"
           },
           "yaxis": {
            "backgroundcolor": "#E5ECF6",
            "gridcolor": "white",
            "gridwidth": 2,
            "linecolor": "white",
            "showbackground": true,
            "ticks": "",
            "zerolinecolor": "white"
           },
           "zaxis": {
            "backgroundcolor": "#E5ECF6",
            "gridcolor": "white",
            "gridwidth": 2,
            "linecolor": "white",
            "showbackground": true,
            "ticks": "",
            "zerolinecolor": "white"
           }
          },
          "shapedefaults": {
           "line": {
            "color": "#2a3f5f"
           }
          },
          "ternary": {
           "aaxis": {
            "gridcolor": "white",
            "linecolor": "white",
            "ticks": ""
           },
           "baxis": {
            "gridcolor": "white",
            "linecolor": "white",
            "ticks": ""
           },
           "bgcolor": "#E5ECF6",
           "caxis": {
            "gridcolor": "white",
            "linecolor": "white",
            "ticks": ""
           }
          },
          "title": {
           "x": 0.05
          },
          "xaxis": {
           "automargin": true,
           "gridcolor": "white",
           "linecolor": "white",
           "ticks": "",
           "title": {
            "standoff": 15
           },
           "zerolinecolor": "white",
           "zerolinewidth": 2
          },
          "yaxis": {
           "automargin": true,
           "gridcolor": "white",
           "linecolor": "white",
           "ticks": "",
           "title": {
            "standoff": 15
           },
           "zerolinecolor": "white",
           "zerolinewidth": 2
          }
         }
        },
        "title": {
         "text": "Projects Deployed on Optimism in 2022                         <br><sup>Plot Greater Than 100 Transactions per Day</sup>"
        },
        "width": 1200,
        "xaxis": {
         "anchor": "y",
         "domain": [
          0,
          1
         ],
         "title": {
          "text": "Deployment Date"
         }
        },
        "yaxis": {
         "anchor": "x",
         "domain": [
          0,
          1
         ],
         "title": {
          "text": "Transactions per Day"
         }
        }
       }
      }
     },
     "metadata": {},
     "output_type": "display_data"
    }
   ],
   "source": [
    "fig = px.scatter(df, x=\"date\", y=\"txs_per_day\",\n",
    "\t        #  size=\"pop\", \n",
    "                 color=\"type\",\n",
    "                 hover_name=\"project\",\n",
    "                #  size_max=60\n",
    "                labels={\"date\":\"Deployment Date\", \"txs_per_day\":\"Transactions per Day\", \"type\":\"App Type\"}\n",
    "                ,title = \"Projects Deployed on Optimism in 2022 \\\n",
    "                        <br><sup>Plot Greater Than 100 Transactions per Day</sup>\"\n",
    "                , width=800, height=400\n",
    "                 )\n",
    "project_annotations = ['Velodrome','Pooltogether','Galxe','Aave','Curve','Beethoven X','Kwenta','Opensea','Atlantis World']\n",
    "for p in project_annotations:\n",
    "        fig.add_annotation(x=df[df['project'] == p]['date'].iloc[0], y=df[df['project'] == p]['txs_per_day'].iloc[0],\n",
    "                text=p,\n",
    "                showarrow=False,\n",
    "                yshift=12,\n",
    "                bgcolor=\"#E6ECF5\",\n",
    "                opacity=0.9\n",
    "                )\n",
    "fig.show()\n",
    "if not os.path.exists(\"img_outputs\"):\n",
    "        os.mkdir(\"img_outputs\")\n",
    "fig.write_image(\"img_outputs/op_deployments_2022.svg\")\n",
    "fig.write_image(\"img_outputs/op_deployments_2022.png\")"
   ]
  }
 ],
 "metadata": {
  "kernelspec": {
   "display_name": "base",
   "language": "python",
   "name": "python3"
  },
  "language_info": {
   "codemirror_mode": {
    "name": "ipython",
    "version": 3
   },
   "file_extension": ".py",
   "mimetype": "text/x-python",
   "name": "python",
   "nbconvert_exporter": "python",
   "pygments_lexer": "ipython3",
   "version": "3.9.13"
  },
  "orig_nbformat": 4,
  "vscode": {
   "interpreter": {
    "hash": "17c021eea7371cec353b12daa8dd7517ddfe82cfa4c2626e1e7d1541ccab7c49"
   }
  }
 },
 "nbformat": 4,
 "nbformat_minor": 2
}
