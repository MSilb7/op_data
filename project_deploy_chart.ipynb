{
 "cells": [
  {
   "cell_type": "code",
   "execution_count": 9,
   "metadata": {},
   "outputs": [],
   "source": [
    "import pandas as pd\n",
    "import plotly.express as px\n",
    "import os\n",
    "\n",
    "min_txs_per_day = 100"
   ]
  },
  {
   "cell_type": "code",
   "execution_count": 10,
   "metadata": {},
   "outputs": [],
   "source": [
    "df = pd.read_csv('csv_exports/project_deploys_2022_12_09.csv')\n",
    "# df = pd.read_csv('csv_exports/project_deploys_2022_12_22.csv')\n",
    "\n",
    "df = df[ (df['txs_per_day'] >= min_txs_per_day)]\n",
    "# df = df[ (df['type'] == 'Contract Project')]\n",
    "df['year'] = df['launch_time'].str[:4]\n",
    "df['date'] = pd.to_datetime( df['launch_time'].str[:10] )\n",
    "\n",
    "# df.sample(10)"
   ]
  },
  {
   "cell_type": "code",
   "execution_count": 11,
   "metadata": {},
   "outputs": [],
   "source": [
    "df['type'] = df['type'].str.replace('Contract Project','dApp')\n",
    "df['type'] = df['type'].str.replace('NFT Only Project','NFT Project')"
   ]
  },
  {
   "cell_type": "code",
   "execution_count": 12,
   "metadata": {},
   "outputs": [],
   "source": [
    "exclude_list = ['Op','Optimistic Explorer', 'Teleportr/ Warp Speed'] #Exclude OP/ OP Labs Projects\n",
    "\n",
    "df = df[~df['project'].isin(exclude_list)]"
   ]
  },
  {
   "cell_type": "code",
   "execution_count": 13,
   "metadata": {},
   "outputs": [
    {
     "name": "stdout",
     "output_type": "stream",
     "text": [
      "      project  launch_time  num_contracts  type  num_transactions  \\\n",
      "year                                                                \n",
      "2021       25           25             25    25                25   \n",
      "2022       54           54             54    54                54   \n",
      "\n",
      "      txs_per_day  time_elapsed  date  \n",
      "year                                   \n",
      "2021           25            25    25  \n",
      "2022           54            54    54  \n"
     ]
    }
   ],
   "source": [
    "print(df.groupby(by='year').count())\n",
    "df = df[df['year'] == '2022']\n",
    "# display(df)"
   ]
  },
  {
   "cell_type": "code",
   "execution_count": 14,
   "metadata": {},
   "outputs": [
    {
     "data": {
      "application/vnd.plotly.v1+json": {
       "config": {
        "plotlyServerURL": "https://plot.ly"
       },
       "data": [
        {
         "hovertemplate": "<b>%{hovertext}</b><br><br>App Type=dApp<br>Deployment Date=%{x}<br>Transactions per Day=%{y}<extra></extra>",
         "hovertext": [
          "Paraswap",
          "Chainhop",
          "Clipper",
          "Polynomial Protocol",
          "Sushi",
          "Hashflow",
          "Nested",
          "Quest3",
          "Curve",
          "Reaper Farm",
          "Zerion",
          "Beethoven X",
          "Opensea",
          "Gelato",
          "Tarot Finance",
          "Ripae",
          "Velodrome",
          "Kwenta",
          "Qidao",
          "Pooltogether",
          "Beefy Finance",
          "Mirror",
          "Wardenswap",
          "Optimismpad",
          "Unidex",
          "Kyberswap",
          "Granary",
          "Web3 Savings Protocol",
          "Opx Finance",
          "Aave",
          "Nex",
          "Thirdweb",
          "Stargate Finance",
          "Ecc Domains",
          "Odos",
          "Homora V2",
          "Revert Finance",
          "Sonne Finance",
          "Biconomy - Hyphen",
          "Galxe",
          "Layer Zero",
          "Holozaki",
          "Openxproject",
          "Apetimism Launchapd",
          "Lifi"
         ],
         "legendgroup": "dApp",
         "marker": {
          "color": "#636efa",
          "symbol": "circle"
         },
         "mode": "markers",
         "name": "dApp",
         "orientation": "v",
         "showlegend": true,
         "type": "scatter",
         "x": [
          "2022-07-15T00:00:00",
          "2022-05-11T00:00:00",
          "2022-02-04T00:00:00",
          "2022-03-29T00:00:00",
          "2022-05-04T00:00:00",
          "2022-05-02T00:00:00",
          "2022-04-07T00:00:00",
          "2022-03-31T00:00:00",
          "2022-01-17T00:00:00",
          "2022-07-04T00:00:00",
          "2022-03-09T00:00:00",
          "2022-04-23T00:00:00",
          "2022-06-27T00:00:00",
          "2022-01-09T00:00:00",
          "2022-05-06T00:00:00",
          "2022-08-04T00:00:00",
          "2022-06-01T00:00:00",
          "2022-02-12T00:00:00",
          "2022-04-05T00:00:00",
          "2022-07-01T00:00:00",
          "2022-06-24T00:00:00",
          "2022-01-19T00:00:00",
          "2022-04-11T00:00:00",
          "2022-08-14T00:00:00",
          "2022-10-24T00:00:00",
          "2022-06-16T00:00:00",
          "2022-05-26T00:00:00",
          "2022-11-16T00:00:00",
          "2022-11-02T00:00:00",
          "2022-03-04T00:00:00",
          "2022-08-31T00:00:00",
          "2022-06-23T00:00:00",
          "2022-03-15T00:00:00",
          "2022-08-10T00:00:00",
          "2022-10-06T00:00:00",
          "2022-07-07T00:00:00",
          "2022-07-15T00:00:00",
          "2022-09-25T00:00:00",
          "2022-06-13T00:00:00",
          "2022-07-18T00:00:00",
          "2022-03-15T00:00:00",
          "2022-06-05T00:00:00",
          "2022-08-19T00:00:00",
          "2022-07-29T00:00:00",
          "2022-01-12T00:00:00"
         ],
         "xaxis": "x",
         "y": [
          101.1957950158662,
          333.8381545183246,
          1164.861787607124,
          416.67362331391854,
          105.60207056933388,
          153.11831143076466,
          176.72263061593068,
          238.2205400293594,
          762.218936789303,
          150.5004967207802,
          127.5095472121821,
          1794.445800675281,
          138.54451942477743,
          196.3941430301849,
          797.4041196881313,
          171.11333163462072,
          14082.399864119869,
          740.3936566836205,
          580.9384639303381,
          2018.1464188487123,
          424.6593728714564,
          800.8058087355408,
          119.5681174027755,
          205.01646555423352,
          193.86069809286775,
          114.99190269415756,
          2492.7277206562044,
          139.3012581159179,
          1464.8542622740913,
          2195.326498937923,
          1551.7918006319944,
          104.76991314896448,
          1707.3541217762008,
          128.84708610581814,
          6748.665791196876,
          119.64614174713962,
          136.95817804001717,
          675.8476200930232,
          634.3544370510358,
          10584.037167907863,
          1308.8271855953049,
          130.7996703977659,
          103.51038412056609,
          263.8470154266824,
          282.41175685122494
         ],
         "yaxis": "y"
        },
        {
         "hovertemplate": "<b>%{hovertext}</b><br><br>App Type=NFT Project<br>Deployment Date=%{x}<br>Transactions per Day=%{y}<extra></extra>",
         "hovertext": [
          "RabbitHole Credentials: L2",
          "OptiChads",
          "OaycNFT",
          "Early Optimists",
          "Alpha Gal",
          "OP Delegatooors",
          "OP Horse Kingdom",
          "OP Bridgooor",
          "Atlantis World"
         ],
         "legendgroup": "NFT Project",
         "marker": {
          "color": "#EF553B",
          "symbol": "circle"
         },
         "mode": "markers",
         "name": "NFT Project",
         "orientation": "v",
         "showlegend": true,
         "type": "scatter",
         "x": [
          "2022-10-04T00:00:00",
          "2022-08-02T00:00:00",
          "2022-10-15T00:00:00",
          "2022-08-31T00:00:00",
          "2022-08-31T00:00:00",
          "2022-09-20T00:00:00",
          "2022-10-27T00:00:00",
          "2022-11-02T00:00:00",
          "2022-11-01T00:00:00"
         ],
         "xaxis": "x",
         "y": [
          400.8186614373047,
          100.47398537755912,
          256.645751721586,
          513.5493393364183,
          149.82160059983167,
          444.36178395459285,
          123.89885329248936,
          360.7141153661623,
          437.9259618683616
         ],
         "yaxis": "y"
        }
       ],
       "layout": {
        "annotations": [
         {
          "bgcolor": "#E6ECF5",
          "opacity": 0.9,
          "showarrow": false,
          "text": "Velodrome",
          "x": "2022-06-01T00:00:00",
          "y": 14082.399864119869,
          "yshift": 12
         },
         {
          "bgcolor": "#E6ECF5",
          "opacity": 0.9,
          "showarrow": false,
          "text": "Pooltogether",
          "x": "2022-07-01T00:00:00",
          "y": 2018.1464188487123,
          "yshift": 12
         },
         {
          "bgcolor": "#E6ECF5",
          "opacity": 0.9,
          "showarrow": false,
          "text": "Galxe",
          "x": "2022-07-18T00:00:00",
          "y": 10584.037167907863,
          "yshift": 12
         },
         {
          "bgcolor": "#E6ECF5",
          "opacity": 0.9,
          "showarrow": false,
          "text": "Aave",
          "x": "2022-03-04T00:00:00",
          "y": 2195.326498937923,
          "yshift": 12
         },
         {
          "bgcolor": "#E6ECF5",
          "opacity": 0.9,
          "showarrow": false,
          "text": "Curve",
          "x": "2022-01-17T00:00:00",
          "y": 762.218936789303,
          "yshift": 12
         },
         {
          "bgcolor": "#E6ECF5",
          "opacity": 0.9,
          "showarrow": false,
          "text": "Beethoven X",
          "x": "2022-04-23T00:00:00",
          "y": 1794.445800675281,
          "yshift": 12
         },
         {
          "bgcolor": "#E6ECF5",
          "opacity": 0.9,
          "showarrow": false,
          "text": "Kwenta",
          "x": "2022-02-12T00:00:00",
          "y": 740.3936566836205,
          "yshift": 12
         },
         {
          "bgcolor": "#E6ECF5",
          "opacity": 0.9,
          "showarrow": false,
          "text": "Opensea",
          "x": "2022-06-27T00:00:00",
          "y": 138.54451942477743,
          "yshift": 12
         },
         {
          "bgcolor": "#E6ECF5",
          "opacity": 0.9,
          "showarrow": false,
          "text": "Atlantis World",
          "x": "2022-11-01T00:00:00",
          "y": 437.9259618683616,
          "yshift": 12
         }
        ],
        "height": 400,
        "legend": {
         "title": {
          "text": "App Type"
         },
         "tracegroupgap": 0
        },
        "template": {
         "data": {
          "bar": [
           {
            "error_x": {
             "color": "#2a3f5f"
            },
            "error_y": {
             "color": "#2a3f5f"
            },
            "marker": {
             "line": {
              "color": "#E5ECF6",
              "width": 0.5
             },
             "pattern": {
              "fillmode": "overlay",
              "size": 10,
              "solidity": 0.2
             }
            },
            "type": "bar"
           }
          ],
          "barpolar": [
           {
            "marker": {
             "line": {
              "color": "#E5ECF6",
              "width": 0.5
             },
             "pattern": {
              "fillmode": "overlay",
              "size": 10,
              "solidity": 0.2
             }
            },
            "type": "barpolar"
           }
          ],
          "carpet": [
           {
            "aaxis": {
             "endlinecolor": "#2a3f5f",
             "gridcolor": "white",
             "linecolor": "white",
             "minorgridcolor": "white",
             "startlinecolor": "#2a3f5f"
            },
            "baxis": {
             "endlinecolor": "#2a3f5f",
             "gridcolor": "white",
             "linecolor": "white",
             "minorgridcolor": "white",
             "startlinecolor": "#2a3f5f"
            },
            "type": "carpet"
           }
          ],
          "choropleth": [
           {
            "colorbar": {
             "outlinewidth": 0,
             "ticks": ""
            },
            "type": "choropleth"
           }
          ],
          "contour": [
           {
            "colorbar": {
             "outlinewidth": 0,
             "ticks": ""
            },
            "colorscale": [
             [
              0,
              "#0d0887"
             ],
             [
              0.1111111111111111,
              "#46039f"
             ],
             [
              0.2222222222222222,
              "#7201a8"
             ],
             [
              0.3333333333333333,
              "#9c179e"
             ],
             [
              0.4444444444444444,
              "#bd3786"
             ],
             [
              0.5555555555555556,
              "#d8576b"
             ],
             [
              0.6666666666666666,
              "#ed7953"
             ],
             [
              0.7777777777777778,
              "#fb9f3a"
             ],
             [
              0.8888888888888888,
              "#fdca26"
             ],
             [
              1,
              "#f0f921"
             ]
            ],
            "type": "contour"
           }
          ],
          "contourcarpet": [
           {
            "colorbar": {
             "outlinewidth": 0,
             "ticks": ""
            },
            "type": "contourcarpet"
           }
          ],
          "heatmap": [
           {
            "colorbar": {
             "outlinewidth": 0,
             "ticks": ""
            },
            "colorscale": [
             [
              0,
              "#0d0887"
             ],
             [
              0.1111111111111111,
              "#46039f"
             ],
             [
              0.2222222222222222,
              "#7201a8"
             ],
             [
              0.3333333333333333,
              "#9c179e"
             ],
             [
              0.4444444444444444,
              "#bd3786"
             ],
             [
              0.5555555555555556,
              "#d8576b"
             ],
             [
              0.6666666666666666,
              "#ed7953"
             ],
             [
              0.7777777777777778,
              "#fb9f3a"
             ],
             [
              0.8888888888888888,
              "#fdca26"
             ],
             [
              1,
              "#f0f921"
             ]
            ],
            "type": "heatmap"
           }
          ],
          "heatmapgl": [
           {
            "colorbar": {
             "outlinewidth": 0,
             "ticks": ""
            },
            "colorscale": [
             [
              0,
              "#0d0887"
             ],
             [
              0.1111111111111111,
              "#46039f"
             ],
             [
              0.2222222222222222,
              "#7201a8"
             ],
             [
              0.3333333333333333,
              "#9c179e"
             ],
             [
              0.4444444444444444,
              "#bd3786"
             ],
             [
              0.5555555555555556,
              "#d8576b"
             ],
             [
              0.6666666666666666,
              "#ed7953"
             ],
             [
              0.7777777777777778,
              "#fb9f3a"
             ],
             [
              0.8888888888888888,
              "#fdca26"
             ],
             [
              1,
              "#f0f921"
             ]
            ],
            "type": "heatmapgl"
           }
          ],
          "histogram": [
           {
            "marker": {
             "pattern": {
              "fillmode": "overlay",
              "size": 10,
              "solidity": 0.2
             }
            },
            "type": "histogram"
           }
          ],
          "histogram2d": [
           {
            "colorbar": {
             "outlinewidth": 0,
             "ticks": ""
            },
            "colorscale": [
             [
              0,
              "#0d0887"
             ],
             [
              0.1111111111111111,
              "#46039f"
             ],
             [
              0.2222222222222222,
              "#7201a8"
             ],
             [
              0.3333333333333333,
              "#9c179e"
             ],
             [
              0.4444444444444444,
              "#bd3786"
             ],
             [
              0.5555555555555556,
              "#d8576b"
             ],
             [
              0.6666666666666666,
              "#ed7953"
             ],
             [
              0.7777777777777778,
              "#fb9f3a"
             ],
             [
              0.8888888888888888,
              "#fdca26"
             ],
             [
              1,
              "#f0f921"
             ]
            ],
            "type": "histogram2d"
           }
          ],
          "histogram2dcontour": [
           {
            "colorbar": {
             "outlinewidth": 0,
             "ticks": ""
            },
            "colorscale": [
             [
              0,
              "#0d0887"
             ],
             [
              0.1111111111111111,
              "#46039f"
             ],
             [
              0.2222222222222222,
              "#7201a8"
             ],
             [
              0.3333333333333333,
              "#9c179e"
             ],
             [
              0.4444444444444444,
              "#bd3786"
             ],
             [
              0.5555555555555556,
              "#d8576b"
             ],
             [
              0.6666666666666666,
              "#ed7953"
             ],
             [
              0.7777777777777778,
              "#fb9f3a"
             ],
             [
              0.8888888888888888,
              "#fdca26"
             ],
             [
              1,
              "#f0f921"
             ]
            ],
            "type": "histogram2dcontour"
           }
          ],
          "mesh3d": [
           {
            "colorbar": {
             "outlinewidth": 0,
             "ticks": ""
            },
            "type": "mesh3d"
           }
          ],
          "parcoords": [
           {
            "line": {
             "colorbar": {
              "outlinewidth": 0,
              "ticks": ""
             }
            },
            "type": "parcoords"
           }
          ],
          "pie": [
           {
            "automargin": true,
            "type": "pie"
           }
          ],
          "scatter": [
           {
            "fillpattern": {
             "fillmode": "overlay",
             "size": 10,
             "solidity": 0.2
            },
            "type": "scatter"
           }
          ],
          "scatter3d": [
           {
            "line": {
             "colorbar": {
              "outlinewidth": 0,
              "ticks": ""
             }
            },
            "marker": {
             "colorbar": {
              "outlinewidth": 0,
              "ticks": ""
             }
            },
            "type": "scatter3d"
           }
          ],
          "scattercarpet": [
           {
            "marker": {
             "colorbar": {
              "outlinewidth": 0,
              "ticks": ""
             }
            },
            "type": "scattercarpet"
           }
          ],
          "scattergeo": [
           {
            "marker": {
             "colorbar": {
              "outlinewidth": 0,
              "ticks": ""
             }
            },
            "type": "scattergeo"
           }
          ],
          "scattergl": [
           {
            "marker": {
             "colorbar": {
              "outlinewidth": 0,
              "ticks": ""
             }
            },
            "type": "scattergl"
           }
          ],
          "scattermapbox": [
           {
            "marker": {
             "colorbar": {
              "outlinewidth": 0,
              "ticks": ""
             }
            },
            "type": "scattermapbox"
           }
          ],
          "scatterpolar": [
           {
            "marker": {
             "colorbar": {
              "outlinewidth": 0,
              "ticks": ""
             }
            },
            "type": "scatterpolar"
           }
          ],
          "scatterpolargl": [
           {
            "marker": {
             "colorbar": {
              "outlinewidth": 0,
              "ticks": ""
             }
            },
            "type": "scatterpolargl"
           }
          ],
          "scatterternary": [
           {
            "marker": {
             "colorbar": {
              "outlinewidth": 0,
              "ticks": ""
             }
            },
            "type": "scatterternary"
           }
          ],
          "surface": [
           {
            "colorbar": {
             "outlinewidth": 0,
             "ticks": ""
            },
            "colorscale": [
             [
              0,
              "#0d0887"
             ],
             [
              0.1111111111111111,
              "#46039f"
             ],
             [
              0.2222222222222222,
              "#7201a8"
             ],
             [
              0.3333333333333333,
              "#9c179e"
             ],
             [
              0.4444444444444444,
              "#bd3786"
             ],
             [
              0.5555555555555556,
              "#d8576b"
             ],
             [
              0.6666666666666666,
              "#ed7953"
             ],
             [
              0.7777777777777778,
              "#fb9f3a"
             ],
             [
              0.8888888888888888,
              "#fdca26"
             ],
             [
              1,
              "#f0f921"
             ]
            ],
            "type": "surface"
           }
          ],
          "table": [
           {
            "cells": {
             "fill": {
              "color": "#EBF0F8"
             },
             "line": {
              "color": "white"
             }
            },
            "header": {
             "fill": {
              "color": "#C8D4E3"
             },
             "line": {
              "color": "white"
             }
            },
            "type": "table"
           }
          ]
         },
         "layout": {
          "annotationdefaults": {
           "arrowcolor": "#2a3f5f",
           "arrowhead": 0,
           "arrowwidth": 1
          },
          "autotypenumbers": "strict",
          "coloraxis": {
           "colorbar": {
            "outlinewidth": 0,
            "ticks": ""
           }
          },
          "colorscale": {
           "diverging": [
            [
             0,
             "#8e0152"
            ],
            [
             0.1,
             "#c51b7d"
            ],
            [
             0.2,
             "#de77ae"
            ],
            [
             0.3,
             "#f1b6da"
            ],
            [
             0.4,
             "#fde0ef"
            ],
            [
             0.5,
             "#f7f7f7"
            ],
            [
             0.6,
             "#e6f5d0"
            ],
            [
             0.7,
             "#b8e186"
            ],
            [
             0.8,
             "#7fbc41"
            ],
            [
             0.9,
             "#4d9221"
            ],
            [
             1,
             "#276419"
            ]
           ],
           "sequential": [
            [
             0,
             "#0d0887"
            ],
            [
             0.1111111111111111,
             "#46039f"
            ],
            [
             0.2222222222222222,
             "#7201a8"
            ],
            [
             0.3333333333333333,
             "#9c179e"
            ],
            [
             0.4444444444444444,
             "#bd3786"
            ],
            [
             0.5555555555555556,
             "#d8576b"
            ],
            [
             0.6666666666666666,
             "#ed7953"
            ],
            [
             0.7777777777777778,
             "#fb9f3a"
            ],
            [
             0.8888888888888888,
             "#fdca26"
            ],
            [
             1,
             "#f0f921"
            ]
           ],
           "sequentialminus": [
            [
             0,
             "#0d0887"
            ],
            [
             0.1111111111111111,
             "#46039f"
            ],
            [
             0.2222222222222222,
             "#7201a8"
            ],
            [
             0.3333333333333333,
             "#9c179e"
            ],
            [
             0.4444444444444444,
             "#bd3786"
            ],
            [
             0.5555555555555556,
             "#d8576b"
            ],
            [
             0.6666666666666666,
             "#ed7953"
            ],
            [
             0.7777777777777778,
             "#fb9f3a"
            ],
            [
             0.8888888888888888,
             "#fdca26"
            ],
            [
             1,
             "#f0f921"
            ]
           ]
          },
          "colorway": [
           "#636efa",
           "#EF553B",
           "#00cc96",
           "#ab63fa",
           "#FFA15A",
           "#19d3f3",
           "#FF6692",
           "#B6E880",
           "#FF97FF",
           "#FECB52"
          ],
          "font": {
           "color": "#2a3f5f"
          },
          "geo": {
           "bgcolor": "white",
           "lakecolor": "white",
           "landcolor": "#E5ECF6",
           "showlakes": true,
           "showland": true,
           "subunitcolor": "white"
          },
          "hoverlabel": {
           "align": "left"
          },
          "hovermode": "closest",
          "mapbox": {
           "style": "light"
          },
          "paper_bgcolor": "white",
          "plot_bgcolor": "#E5ECF6",
          "polar": {
           "angularaxis": {
            "gridcolor": "white",
            "linecolor": "white",
            "ticks": ""
           },
           "bgcolor": "#E5ECF6",
           "radialaxis": {
            "gridcolor": "white",
            "linecolor": "white",
            "ticks": ""
           }
          },
          "scene": {
           "xaxis": {
            "backgroundcolor": "#E5ECF6",
            "gridcolor": "white",
            "gridwidth": 2,
            "linecolor": "white",
            "showbackground": true,
            "ticks": "",
            "zerolinecolor": "white"
           },
           "yaxis": {
            "backgroundcolor": "#E5ECF6",
            "gridcolor": "white",
            "gridwidth": 2,
            "linecolor": "white",
            "showbackground": true,
            "ticks": "",
            "zerolinecolor": "white"
           },
           "zaxis": {
            "backgroundcolor": "#E5ECF6",
            "gridcolor": "white",
            "gridwidth": 2,
            "linecolor": "white",
            "showbackground": true,
            "ticks": "",
            "zerolinecolor": "white"
           }
          },
          "shapedefaults": {
           "line": {
            "color": "#2a3f5f"
           }
          },
          "ternary": {
           "aaxis": {
            "gridcolor": "white",
            "linecolor": "white",
            "ticks": ""
           },
           "baxis": {
            "gridcolor": "white",
            "linecolor": "white",
            "ticks": ""
           },
           "bgcolor": "#E5ECF6",
           "caxis": {
            "gridcolor": "white",
            "linecolor": "white",
            "ticks": ""
           }
          },
          "title": {
           "x": 0.05
          },
          "xaxis": {
           "automargin": true,
           "gridcolor": "white",
           "linecolor": "white",
           "ticks": "",
           "title": {
            "standoff": 15
           },
           "zerolinecolor": "white",
           "zerolinewidth": 2
          },
          "yaxis": {
           "automargin": true,
           "gridcolor": "white",
           "linecolor": "white",
           "ticks": "",
           "title": {
            "standoff": 15
           },
           "zerolinecolor": "white",
           "zerolinewidth": 2
          }
         }
        },
        "title": {
         "text": "Projects Deployed on Optimism in 2022                         <br><sup>Project With Greater Than 100 Transactions per Day Since Deployment</sup>"
        },
        "width": 800,
        "xaxis": {
         "anchor": "y",
         "domain": [
          0,
          1
         ],
         "title": {
          "text": "Deployment Date"
         }
        },
        "yaxis": {
         "anchor": "x",
         "domain": [
          0,
          1
         ],
         "title": {
          "text": "Transactions per Day"
         }
        }
       }
      }
     },
     "metadata": {},
     "output_type": "display_data"
    }
   ],
   "source": [
    "fig = px.scatter(df, x=\"date\", y=\"txs_per_day\",\n",
    "\t        #  size=\"pop\", \n",
    "                 color=\"type\",\n",
    "                 hover_name=\"project\",\n",
    "                #  size_max=60\n",
    "                labels={\"date\":\"Deployment Date\", \"txs_per_day\":\"Transactions per Day\", \"type\":\"App Type\"}\n",
    "                ,title = \"Projects Deployed on Optimism in 2022 \\\n",
    "                        <br><sup>Project With Greater Than 100 Transactions per Day Since Deployment</sup>\"\n",
    "                , width=800, height=400\n",
    "                 )\n",
    "project_annotations = ['Velodrome','Pooltogether','Galxe','Aave','Curve','Beethoven X','Kwenta','Opensea','Atlantis World']\n",
    "for p in project_annotations:\n",
    "        fig.add_annotation(x=df[df['project'] == p]['date'].iloc[0], y=df[df['project'] == p]['txs_per_day'].iloc[0],\n",
    "                text=p,\n",
    "                showarrow=False,\n",
    "                yshift=12,\n",
    "                bgcolor=\"#E6ECF5\",\n",
    "                opacity=0.9\n",
    "                )\n",
    "fig.show()\n",
    "if not os.path.exists(\"img_outputs\"):\n",
    "        os.mkdir(\"img_outputs\")\n",
    "fig.write_image(\"img_outputs/op_deployments_2022.svg\")\n",
    "fig.write_image(\"img_outputs/op_deployments_2022.png\")"
   ]
  },
  {
   "attachments": {},
   "cell_type": "markdown",
   "metadata": {},
   "source": [
    "![](https://github.com/MSilb7/op_data/blob/master/img_outputs/op_deployments_2022.svg)"
   ]
  },
  {
   "cell_type": "code",
   "execution_count": 15,
   "metadata": {},
   "outputs": [
    {
     "data": {
      "text/html": [
       "<div>\n",
       "<style scoped>\n",
       "    .dataframe tbody tr th:only-of-type {\n",
       "        vertical-align: middle;\n",
       "    }\n",
       "\n",
       "    .dataframe tbody tr th {\n",
       "        vertical-align: top;\n",
       "    }\n",
       "\n",
       "    .dataframe thead th {\n",
       "        text-align: right;\n",
       "    }\n",
       "</style>\n",
       "<table border=\"1\" class=\"dataframe\">\n",
       "  <thead>\n",
       "    <tr style=\"text-align: right;\">\n",
       "      <th></th>\n",
       "      <th>project</th>\n",
       "      <th>launch_time</th>\n",
       "      <th>num_contracts</th>\n",
       "      <th>type</th>\n",
       "      <th>num_transactions</th>\n",
       "      <th>txs_per_day</th>\n",
       "      <th>time_elapsed</th>\n",
       "      <th>year</th>\n",
       "      <th>date</th>\n",
       "    </tr>\n",
       "  </thead>\n",
       "  <tbody>\n",
       "    <tr>\n",
       "      <th>144</th>\n",
       "      <td>Velodrome</td>\n",
       "      <td>2022-06-01T20:01:23Z</td>\n",
       "      <td>1812</td>\n",
       "      <td>dApp</td>\n",
       "      <td>2690760.0</td>\n",
       "      <td>14082.399864</td>\n",
       "      <td>191.072546</td>\n",
       "      <td>2022</td>\n",
       "      <td>2022-06-01</td>\n",
       "    </tr>\n",
       "    <tr>\n",
       "      <th>285</th>\n",
       "      <td>Galxe</td>\n",
       "      <td>2022-07-18T07:01:41Z</td>\n",
       "      <td>43</td>\n",
       "      <td>dApp</td>\n",
       "      <td>1530600.0</td>\n",
       "      <td>10584.037168</td>\n",
       "      <td>144.614005</td>\n",
       "      <td>2022</td>\n",
       "      <td>2022-07-18</td>\n",
       "    </tr>\n",
       "    <tr>\n",
       "      <th>256</th>\n",
       "      <td>Odos</td>\n",
       "      <td>2022-10-06T05:09:31Z</td>\n",
       "      <td>2</td>\n",
       "      <td>dApp</td>\n",
       "      <td>436584.0</td>\n",
       "      <td>6748.665791</td>\n",
       "      <td>64.691898</td>\n",
       "      <td>2022</td>\n",
       "      <td>2022-10-06</td>\n",
       "    </tr>\n",
       "    <tr>\n",
       "      <th>215</th>\n",
       "      <td>Granary</td>\n",
       "      <td>2022-05-26T00:38:03Z</td>\n",
       "      <td>64</td>\n",
       "      <td>dApp</td>\n",
       "      <td>493262.0</td>\n",
       "      <td>2492.727721</td>\n",
       "      <td>197.880417</td>\n",
       "      <td>2022</td>\n",
       "      <td>2022-05-26</td>\n",
       "    </tr>\n",
       "    <tr>\n",
       "      <th>227</th>\n",
       "      <td>Aave</td>\n",
       "      <td>2022-03-04T21:02:50Z</td>\n",
       "      <td>90</td>\n",
       "      <td>dApp</td>\n",
       "      <td>614757.0</td>\n",
       "      <td>2195.326499</td>\n",
       "      <td>280.029873</td>\n",
       "      <td>2022</td>\n",
       "      <td>2022-03-04</td>\n",
       "    </tr>\n",
       "    <tr>\n",
       "      <th>154</th>\n",
       "      <td>Pooltogether</td>\n",
       "      <td>2022-07-01T16:03:46Z</td>\n",
       "      <td>290</td>\n",
       "      <td>dApp</td>\n",
       "      <td>325401.0</td>\n",
       "      <td>2018.146419</td>\n",
       "      <td>161.237558</td>\n",
       "      <td>2022</td>\n",
       "      <td>2022-07-01</td>\n",
       "    </tr>\n",
       "    <tr>\n",
       "      <th>117</th>\n",
       "      <td>Beethoven X</td>\n",
       "      <td>2022-04-23T06:02:34Z</td>\n",
       "      <td>311</td>\n",
       "      <td>dApp</td>\n",
       "      <td>413898.0</td>\n",
       "      <td>1794.445801</td>\n",
       "      <td>230.655058</td>\n",
       "      <td>2022</td>\n",
       "      <td>2022-04-23</td>\n",
       "    </tr>\n",
       "    <tr>\n",
       "      <th>238</th>\n",
       "      <td>Stargate Finance</td>\n",
       "      <td>2022-03-15T12:57:15Z</td>\n",
       "      <td>42</td>\n",
       "      <td>dApp</td>\n",
       "      <td>459905.0</td>\n",
       "      <td>1707.354122</td>\n",
       "      <td>269.367083</td>\n",
       "      <td>2022</td>\n",
       "      <td>2022-03-15</td>\n",
       "    </tr>\n",
       "    <tr>\n",
       "      <th>228</th>\n",
       "      <td>Nex</td>\n",
       "      <td>2022-08-31T06:07:51Z</td>\n",
       "      <td>25</td>\n",
       "      <td>dApp</td>\n",
       "      <td>156190.0</td>\n",
       "      <td>1551.791801</td>\n",
       "      <td>100.651389</td>\n",
       "      <td>2022</td>\n",
       "      <td>2022-08-31</td>\n",
       "    </tr>\n",
       "    <tr>\n",
       "      <th>223</th>\n",
       "      <td>Opx Finance</td>\n",
       "      <td>2022-11-02T11:37:57Z</td>\n",
       "      <td>76</td>\n",
       "      <td>dApp</td>\n",
       "      <td>54818.0</td>\n",
       "      <td>1464.854262</td>\n",
       "      <td>37.422153</td>\n",
       "      <td>2022</td>\n",
       "      <td>2022-11-02</td>\n",
       "    </tr>\n",
       "    <tr>\n",
       "      <th>287</th>\n",
       "      <td>Layer Zero</td>\n",
       "      <td>2022-03-15T04:02:30Z</td>\n",
       "      <td>37</td>\n",
       "      <td>dApp</td>\n",
       "      <td>353041.0</td>\n",
       "      <td>1308.827186</td>\n",
       "      <td>269.738437</td>\n",
       "      <td>2022</td>\n",
       "      <td>2022-03-15</td>\n",
       "    </tr>\n",
       "    <tr>\n",
       "      <th>6</th>\n",
       "      <td>Clipper</td>\n",
       "      <td>2022-02-04T00:19:30Z</td>\n",
       "      <td>4</td>\n",
       "      <td>dApp</td>\n",
       "      <td>359818.0</td>\n",
       "      <td>1164.861788</td>\n",
       "      <td>308.893299</td>\n",
       "      <td>2022</td>\n",
       "      <td>2022-02-04</td>\n",
       "    </tr>\n",
       "    <tr>\n",
       "      <th>175</th>\n",
       "      <td>Mirror</td>\n",
       "      <td>2022-01-19T18:08:25Z</td>\n",
       "      <td>12267</td>\n",
       "      <td>dApp</td>\n",
       "      <td>259582.0</td>\n",
       "      <td>800.805809</td>\n",
       "      <td>324.150995</td>\n",
       "      <td>2022</td>\n",
       "      <td>2022-01-19</td>\n",
       "    </tr>\n",
       "    <tr>\n",
       "      <th>137</th>\n",
       "      <td>Tarot Finance</td>\n",
       "      <td>2022-05-06T14:19:15Z</td>\n",
       "      <td>262</td>\n",
       "      <td>dApp</td>\n",
       "      <td>173284.0</td>\n",
       "      <td>797.404120</td>\n",
       "      <td>217.310139</td>\n",
       "      <td>2022</td>\n",
       "      <td>2022-05-06</td>\n",
       "    </tr>\n",
       "    <tr>\n",
       "      <th>91</th>\n",
       "      <td>Curve</td>\n",
       "      <td>2022-01-17T12:50:01Z</td>\n",
       "      <td>80</td>\n",
       "      <td>dApp</td>\n",
       "      <td>248767.0</td>\n",
       "      <td>762.218937</td>\n",
       "      <td>326.372106</td>\n",
       "      <td>2022</td>\n",
       "      <td>2022-01-17</td>\n",
       "    </tr>\n",
       "    <tr>\n",
       "      <th>146</th>\n",
       "      <td>Kwenta</td>\n",
       "      <td>2022-02-12T00:34:04Z</td>\n",
       "      <td>36170</td>\n",
       "      <td>dApp</td>\n",
       "      <td>222772.0</td>\n",
       "      <td>740.393657</td>\n",
       "      <td>300.883183</td>\n",
       "      <td>2022</td>\n",
       "      <td>2022-02-12</td>\n",
       "    </tr>\n",
       "    <tr>\n",
       "      <th>277</th>\n",
       "      <td>Sonne Finance</td>\n",
       "      <td>2022-09-25T09:51:10Z</td>\n",
       "      <td>63</td>\n",
       "      <td>dApp</td>\n",
       "      <td>51024.0</td>\n",
       "      <td>675.847620</td>\n",
       "      <td>75.496308</td>\n",
       "      <td>2022</td>\n",
       "      <td>2022-09-25</td>\n",
       "    </tr>\n",
       "    <tr>\n",
       "      <th>278</th>\n",
       "      <td>Biconomy - Hyphen</td>\n",
       "      <td>2022-06-13T19:03:25Z</td>\n",
       "      <td>20</td>\n",
       "      <td>dApp</td>\n",
       "      <td>113621.0</td>\n",
       "      <td>634.354437</td>\n",
       "      <td>179.112801</td>\n",
       "      <td>2022</td>\n",
       "      <td>2022-06-13</td>\n",
       "    </tr>\n",
       "    <tr>\n",
       "      <th>147</th>\n",
       "      <td>Qidao</td>\n",
       "      <td>2022-04-05T18:46:44Z</td>\n",
       "      <td>42</td>\n",
       "      <td>dApp</td>\n",
       "      <td>144145.0</td>\n",
       "      <td>580.938464</td>\n",
       "      <td>248.124387</td>\n",
       "      <td>2022</td>\n",
       "      <td>2022-04-05</td>\n",
       "    </tr>\n",
       "    <tr>\n",
       "      <th>61</th>\n",
       "      <td>Early Optimists</td>\n",
       "      <td>2022-08-31T17:19:17Z</td>\n",
       "      <td>1</td>\n",
       "      <td>NFT Project</td>\n",
       "      <td>51450.0</td>\n",
       "      <td>513.549339</td>\n",
       "      <td>100.185116</td>\n",
       "      <td>2022</td>\n",
       "      <td>2022-08-31</td>\n",
       "    </tr>\n",
       "    <tr>\n",
       "      <th>171</th>\n",
       "      <td>OP Delegatooors</td>\n",
       "      <td>2022-09-20T23:45:34Z</td>\n",
       "      <td>1</td>\n",
       "      <td>NFT Project</td>\n",
       "      <td>35512.0</td>\n",
       "      <td>444.361784</td>\n",
       "      <td>79.916863</td>\n",
       "      <td>2022</td>\n",
       "      <td>2022-09-20</td>\n",
       "    </tr>\n",
       "    <tr>\n",
       "      <th>263</th>\n",
       "      <td>Atlantis World</td>\n",
       "      <td>2022-11-01T13:13:30Z</td>\n",
       "      <td>1</td>\n",
       "      <td>NFT Project</td>\n",
       "      <td>16797.0</td>\n",
       "      <td>437.925962</td>\n",
       "      <td>38.355799</td>\n",
       "      <td>2022</td>\n",
       "      <td>2022-11-01</td>\n",
       "    </tr>\n",
       "    <tr>\n",
       "      <th>163</th>\n",
       "      <td>Beefy Finance</td>\n",
       "      <td>2022-06-24T12:42:32Z</td>\n",
       "      <td>388</td>\n",
       "      <td>dApp</td>\n",
       "      <td>71503.0</td>\n",
       "      <td>424.659373</td>\n",
       "      <td>168.377303</td>\n",
       "      <td>2022</td>\n",
       "      <td>2022-06-24</td>\n",
       "    </tr>\n",
       "    <tr>\n",
       "      <th>8</th>\n",
       "      <td>Polynomial Protocol</td>\n",
       "      <td>2022-03-29T06:32:42Z</td>\n",
       "      <td>177</td>\n",
       "      <td>dApp</td>\n",
       "      <td>106516.0</td>\n",
       "      <td>416.673623</td>\n",
       "      <td>255.634132</td>\n",
       "      <td>2022</td>\n",
       "      <td>2022-03-29</td>\n",
       "    </tr>\n",
       "    <tr>\n",
       "      <th>7</th>\n",
       "      <td>RabbitHole Credentials: L2</td>\n",
       "      <td>2022-10-04T22:57:49Z</td>\n",
       "      <td>1</td>\n",
       "      <td>NFT Project</td>\n",
       "      <td>26434.0</td>\n",
       "      <td>400.818661</td>\n",
       "      <td>65.950023</td>\n",
       "      <td>2022</td>\n",
       "      <td>2022-10-04</td>\n",
       "    </tr>\n",
       "    <tr>\n",
       "      <th>260</th>\n",
       "      <td>OP Bridgooor</td>\n",
       "      <td>2022-11-02T18:43:54Z</td>\n",
       "      <td>1</td>\n",
       "      <td>NFT Project</td>\n",
       "      <td>13392.0</td>\n",
       "      <td>360.714115</td>\n",
       "      <td>37.126354</td>\n",
       "      <td>2022</td>\n",
       "      <td>2022-11-02</td>\n",
       "    </tr>\n",
       "    <tr>\n",
       "      <th>4</th>\n",
       "      <td>Chainhop</td>\n",
       "      <td>2022-05-11T08:48:05Z</td>\n",
       "      <td>72</td>\n",
       "      <td>dApp</td>\n",
       "      <td>70954.0</td>\n",
       "      <td>333.838155</td>\n",
       "      <td>212.540116</td>\n",
       "      <td>2022</td>\n",
       "      <td>2022-05-11</td>\n",
       "    </tr>\n",
       "    <tr>\n",
       "      <th>308</th>\n",
       "      <td>Lifi</td>\n",
       "      <td>2022-01-12T08:42:06Z</td>\n",
       "      <td>53</td>\n",
       "      <td>dApp</td>\n",
       "      <td>93632.0</td>\n",
       "      <td>282.411757</td>\n",
       "      <td>331.544271</td>\n",
       "      <td>2022</td>\n",
       "      <td>2022-01-12</td>\n",
       "    </tr>\n",
       "    <tr>\n",
       "      <th>306</th>\n",
       "      <td>Apetimism Launchapd</td>\n",
       "      <td>2022-07-29T21:27:35Z</td>\n",
       "      <td>37</td>\n",
       "      <td>dApp</td>\n",
       "      <td>35095.0</td>\n",
       "      <td>263.847015</td>\n",
       "      <td>133.012685</td>\n",
       "      <td>2022</td>\n",
       "      <td>2022-07-29</td>\n",
       "    </tr>\n",
       "    <tr>\n",
       "      <th>26</th>\n",
       "      <td>OaycNFT</td>\n",
       "      <td>2022-10-15T07:02:14Z</td>\n",
       "      <td>1</td>\n",
       "      <td>NFT Project</td>\n",
       "      <td>14273.0</td>\n",
       "      <td>256.645752</td>\n",
       "      <td>55.613623</td>\n",
       "      <td>2022</td>\n",
       "      <td>2022-10-15</td>\n",
       "    </tr>\n",
       "    <tr>\n",
       "      <th>84</th>\n",
       "      <td>Quest3</td>\n",
       "      <td>2022-03-31T14:41:29Z</td>\n",
       "      <td>77</td>\n",
       "      <td>dApp</td>\n",
       "      <td>60340.0</td>\n",
       "      <td>238.220540</td>\n",
       "      <td>253.294699</td>\n",
       "      <td>2022</td>\n",
       "      <td>2022-03-31</td>\n",
       "    </tr>\n",
       "    <tr>\n",
       "      <th>187</th>\n",
       "      <td>Optimismpad</td>\n",
       "      <td>2022-08-14T03:29:37Z</td>\n",
       "      <td>8</td>\n",
       "      <td>dApp</td>\n",
       "      <td>24143.0</td>\n",
       "      <td>205.016466</td>\n",
       "      <td>117.761273</td>\n",
       "      <td>2022</td>\n",
       "      <td>2022-08-14</td>\n",
       "    </tr>\n",
       "    <tr>\n",
       "      <th>121</th>\n",
       "      <td>Gelato</td>\n",
       "      <td>2022-01-09T13:17:19Z</td>\n",
       "      <td>30</td>\n",
       "      <td>dApp</td>\n",
       "      <td>65665.0</td>\n",
       "      <td>196.394143</td>\n",
       "      <td>334.353148</td>\n",
       "      <td>2022</td>\n",
       "      <td>2022-01-09</td>\n",
       "    </tr>\n",
       "    <tr>\n",
       "      <th>190</th>\n",
       "      <td>Unidex</td>\n",
       "      <td>2022-10-24T08:13:10Z</td>\n",
       "      <td>32</td>\n",
       "      <td>dApp</td>\n",
       "      <td>9027.0</td>\n",
       "      <td>193.860698</td>\n",
       "      <td>46.564363</td>\n",
       "      <td>2022</td>\n",
       "      <td>2022-10-24</td>\n",
       "    </tr>\n",
       "    <tr>\n",
       "      <th>76</th>\n",
       "      <td>Nested</td>\n",
       "      <td>2022-04-07T17:47:39Z</td>\n",
       "      <td>43</td>\n",
       "      <td>dApp</td>\n",
       "      <td>43503.0</td>\n",
       "      <td>176.722631</td>\n",
       "      <td>246.165417</td>\n",
       "      <td>2022</td>\n",
       "      <td>2022-04-07</td>\n",
       "    </tr>\n",
       "    <tr>\n",
       "      <th>138</th>\n",
       "      <td>Ripae</td>\n",
       "      <td>2022-08-04T12:58:59Z</td>\n",
       "      <td>25</td>\n",
       "      <td>dApp</td>\n",
       "      <td>21794.0</td>\n",
       "      <td>171.113332</td>\n",
       "      <td>127.365880</td>\n",
       "      <td>2022</td>\n",
       "      <td>2022-08-04</td>\n",
       "    </tr>\n",
       "    <tr>\n",
       "      <th>69</th>\n",
       "      <td>Hashflow</td>\n",
       "      <td>2022-05-02T00:56:26Z</td>\n",
       "      <td>41</td>\n",
       "      <td>dApp</td>\n",
       "      <td>33972.0</td>\n",
       "      <td>153.118311</td>\n",
       "      <td>221.867650</td>\n",
       "      <td>2022</td>\n",
       "      <td>2022-05-02</td>\n",
       "    </tr>\n",
       "    <tr>\n",
       "      <th>102</th>\n",
       "      <td>Reaper Farm</td>\n",
       "      <td>2022-07-04T14:07:20Z</td>\n",
       "      <td>300</td>\n",
       "      <td>dApp</td>\n",
       "      <td>23827.0</td>\n",
       "      <td>150.500497</td>\n",
       "      <td>158.318414</td>\n",
       "      <td>2022</td>\n",
       "      <td>2022-07-04</td>\n",
       "    </tr>\n",
       "    <tr>\n",
       "      <th>88</th>\n",
       "      <td>Alpha Gal</td>\n",
       "      <td>2022-08-31T02:34:01Z</td>\n",
       "      <td>1</td>\n",
       "      <td>NFT Project</td>\n",
       "      <td>15102.0</td>\n",
       "      <td>149.821601</td>\n",
       "      <td>100.799884</td>\n",
       "      <td>2022</td>\n",
       "      <td>2022-08-31</td>\n",
       "    </tr>\n",
       "    <tr>\n",
       "      <th>219</th>\n",
       "      <td>Web3 Savings Protocol</td>\n",
       "      <td>2022-11-16T13:08:15Z</td>\n",
       "      <td>1</td>\n",
       "      <td>dApp</td>\n",
       "      <td>3254.0</td>\n",
       "      <td>139.301258</td>\n",
       "      <td>23.359444</td>\n",
       "      <td>2022</td>\n",
       "      <td>2022-11-16</td>\n",
       "    </tr>\n",
       "    <tr>\n",
       "      <th>119</th>\n",
       "      <td>Opensea</td>\n",
       "      <td>2022-06-27T17:55:35Z</td>\n",
       "      <td>2</td>\n",
       "      <td>dApp</td>\n",
       "      <td>22882.0</td>\n",
       "      <td>138.544519</td>\n",
       "      <td>165.159907</td>\n",
       "      <td>2022</td>\n",
       "      <td>2022-06-27</td>\n",
       "    </tr>\n",
       "    <tr>\n",
       "      <th>269</th>\n",
       "      <td>Revert Finance</td>\n",
       "      <td>2022-07-15T19:06:35Z</td>\n",
       "      <td>4</td>\n",
       "      <td>dApp</td>\n",
       "      <td>20148.0</td>\n",
       "      <td>136.958178</td>\n",
       "      <td>147.110602</td>\n",
       "      <td>2022</td>\n",
       "      <td>2022-07-15</td>\n",
       "    </tr>\n",
       "    <tr>\n",
       "      <th>302</th>\n",
       "      <td>Holozaki</td>\n",
       "      <td>2022-06-05T07:22:03Z</td>\n",
       "      <td>42</td>\n",
       "      <td>dApp</td>\n",
       "      <td>24538.0</td>\n",
       "      <td>130.799670</td>\n",
       "      <td>187.599861</td>\n",
       "      <td>2022</td>\n",
       "      <td>2022-06-05</td>\n",
       "    </tr>\n",
       "    <tr>\n",
       "      <th>243</th>\n",
       "      <td>Ecc Domains</td>\n",
       "      <td>2022-08-10T09:44:58Z</td>\n",
       "      <td>2</td>\n",
       "      <td>dApp</td>\n",
       "      <td>15655.0</td>\n",
       "      <td>128.847086</td>\n",
       "      <td>121.500613</td>\n",
       "      <td>2022</td>\n",
       "      <td>2022-08-10</td>\n",
       "    </tr>\n",
       "    <tr>\n",
       "      <th>103</th>\n",
       "      <td>Zerion</td>\n",
       "      <td>2022-03-09T12:56:29Z</td>\n",
       "      <td>1</td>\n",
       "      <td>dApp</td>\n",
       "      <td>35112.0</td>\n",
       "      <td>127.509547</td>\n",
       "      <td>275.367616</td>\n",
       "      <td>2022</td>\n",
       "      <td>2022-03-09</td>\n",
       "    </tr>\n",
       "    <tr>\n",
       "      <th>172</th>\n",
       "      <td>OP Horse Kingdom</td>\n",
       "      <td>2022-10-27T06:46:52Z</td>\n",
       "      <td>1</td>\n",
       "      <td>NFT Project</td>\n",
       "      <td>5405.0</td>\n",
       "      <td>123.898853</td>\n",
       "      <td>43.624294</td>\n",
       "      <td>2022</td>\n",
       "      <td>2022-10-27</td>\n",
       "    </tr>\n",
       "    <tr>\n",
       "      <th>259</th>\n",
       "      <td>Homora V2</td>\n",
       "      <td>2022-07-07T05:08:44Z</td>\n",
       "      <td>37</td>\n",
       "      <td>dApp</td>\n",
       "      <td>18628.0</td>\n",
       "      <td>119.646142</td>\n",
       "      <td>155.692442</td>\n",
       "      <td>2022</td>\n",
       "      <td>2022-07-07</td>\n",
       "    </tr>\n",
       "    <tr>\n",
       "      <th>178</th>\n",
       "      <td>Wardenswap</td>\n",
       "      <td>2022-04-11T10:49:18Z</td>\n",
       "      <td>19</td>\n",
       "      <td>dApp</td>\n",
       "      <td>28990.0</td>\n",
       "      <td>119.568117</td>\n",
       "      <td>242.455938</td>\n",
       "      <td>2022</td>\n",
       "      <td>2022-04-11</td>\n",
       "    </tr>\n",
       "    <tr>\n",
       "      <th>197</th>\n",
       "      <td>Kyberswap</td>\n",
       "      <td>2022-06-16T07:54:02Z</td>\n",
       "      <td>67</td>\n",
       "      <td>dApp</td>\n",
       "      <td>20305.0</td>\n",
       "      <td>114.991903</td>\n",
       "      <td>176.577650</td>\n",
       "      <td>2022</td>\n",
       "      <td>2022-06-16</td>\n",
       "    </tr>\n",
       "    <tr>\n",
       "      <th>27</th>\n",
       "      <td>Sushi</td>\n",
       "      <td>2022-05-04T05:08:25Z</td>\n",
       "      <td>167</td>\n",
       "      <td>dApp</td>\n",
       "      <td>23200.0</td>\n",
       "      <td>105.602071</td>\n",
       "      <td>219.692662</td>\n",
       "      <td>2022</td>\n",
       "      <td>2022-05-04</td>\n",
       "    </tr>\n",
       "    <tr>\n",
       "      <th>234</th>\n",
       "      <td>Thirdweb</td>\n",
       "      <td>2022-06-23T00:01:43Z</td>\n",
       "      <td>360</td>\n",
       "      <td>dApp</td>\n",
       "      <td>17801.0</td>\n",
       "      <td>104.769913</td>\n",
       "      <td>169.905648</td>\n",
       "      <td>2022</td>\n",
       "      <td>2022-06-23</td>\n",
       "    </tr>\n",
       "    <tr>\n",
       "      <th>303</th>\n",
       "      <td>Openxproject</td>\n",
       "      <td>2022-08-19T16:28:09Z</td>\n",
       "      <td>49</td>\n",
       "      <td>dApp</td>\n",
       "      <td>11616.0</td>\n",
       "      <td>103.510384</td>\n",
       "      <td>112.220625</td>\n",
       "      <td>2022</td>\n",
       "      <td>2022-08-19</td>\n",
       "    </tr>\n",
       "    <tr>\n",
       "      <th>3</th>\n",
       "      <td>Paraswap</td>\n",
       "      <td>2022-07-15T15:47:00Z</td>\n",
       "      <td>17</td>\n",
       "      <td>dApp</td>\n",
       "      <td>14901.0</td>\n",
       "      <td>101.195795</td>\n",
       "      <td>147.249201</td>\n",
       "      <td>2022</td>\n",
       "      <td>2022-07-15</td>\n",
       "    </tr>\n",
       "    <tr>\n",
       "      <th>24</th>\n",
       "      <td>OptiChads</td>\n",
       "      <td>2022-08-02T02:41:21Z</td>\n",
       "      <td>1</td>\n",
       "      <td>NFT Project</td>\n",
       "      <td>13041.0</td>\n",
       "      <td>100.473985</td>\n",
       "      <td>129.794792</td>\n",
       "      <td>2022</td>\n",
       "      <td>2022-08-02</td>\n",
       "    </tr>\n",
       "  </tbody>\n",
       "</table>\n",
       "</div>"
      ],
      "text/plain": [
       "                        project           launch_time  num_contracts  \\\n",
       "144                   Velodrome  2022-06-01T20:01:23Z           1812   \n",
       "285                       Galxe  2022-07-18T07:01:41Z             43   \n",
       "256                        Odos  2022-10-06T05:09:31Z              2   \n",
       "215                     Granary  2022-05-26T00:38:03Z             64   \n",
       "227                        Aave  2022-03-04T21:02:50Z             90   \n",
       "154                Pooltogether  2022-07-01T16:03:46Z            290   \n",
       "117                 Beethoven X  2022-04-23T06:02:34Z            311   \n",
       "238            Stargate Finance  2022-03-15T12:57:15Z             42   \n",
       "228                         Nex  2022-08-31T06:07:51Z             25   \n",
       "223                 Opx Finance  2022-11-02T11:37:57Z             76   \n",
       "287                  Layer Zero  2022-03-15T04:02:30Z             37   \n",
       "6                       Clipper  2022-02-04T00:19:30Z              4   \n",
       "175                      Mirror  2022-01-19T18:08:25Z          12267   \n",
       "137               Tarot Finance  2022-05-06T14:19:15Z            262   \n",
       "91                        Curve  2022-01-17T12:50:01Z             80   \n",
       "146                      Kwenta  2022-02-12T00:34:04Z          36170   \n",
       "277               Sonne Finance  2022-09-25T09:51:10Z             63   \n",
       "278           Biconomy - Hyphen  2022-06-13T19:03:25Z             20   \n",
       "147                       Qidao  2022-04-05T18:46:44Z             42   \n",
       "61              Early Optimists  2022-08-31T17:19:17Z              1   \n",
       "171             OP Delegatooors  2022-09-20T23:45:34Z              1   \n",
       "263              Atlantis World  2022-11-01T13:13:30Z              1   \n",
       "163               Beefy Finance  2022-06-24T12:42:32Z            388   \n",
       "8           Polynomial Protocol  2022-03-29T06:32:42Z            177   \n",
       "7    RabbitHole Credentials: L2  2022-10-04T22:57:49Z              1   \n",
       "260                OP Bridgooor  2022-11-02T18:43:54Z              1   \n",
       "4                      Chainhop  2022-05-11T08:48:05Z             72   \n",
       "308                        Lifi  2022-01-12T08:42:06Z             53   \n",
       "306         Apetimism Launchapd  2022-07-29T21:27:35Z             37   \n",
       "26                      OaycNFT  2022-10-15T07:02:14Z              1   \n",
       "84                       Quest3  2022-03-31T14:41:29Z             77   \n",
       "187                 Optimismpad  2022-08-14T03:29:37Z              8   \n",
       "121                      Gelato  2022-01-09T13:17:19Z             30   \n",
       "190                      Unidex  2022-10-24T08:13:10Z             32   \n",
       "76                       Nested  2022-04-07T17:47:39Z             43   \n",
       "138                       Ripae  2022-08-04T12:58:59Z             25   \n",
       "69                     Hashflow  2022-05-02T00:56:26Z             41   \n",
       "102                 Reaper Farm  2022-07-04T14:07:20Z            300   \n",
       "88                    Alpha Gal  2022-08-31T02:34:01Z              1   \n",
       "219       Web3 Savings Protocol  2022-11-16T13:08:15Z              1   \n",
       "119                     Opensea  2022-06-27T17:55:35Z              2   \n",
       "269              Revert Finance  2022-07-15T19:06:35Z              4   \n",
       "302                    Holozaki  2022-06-05T07:22:03Z             42   \n",
       "243                 Ecc Domains  2022-08-10T09:44:58Z              2   \n",
       "103                      Zerion  2022-03-09T12:56:29Z              1   \n",
       "172            OP Horse Kingdom  2022-10-27T06:46:52Z              1   \n",
       "259                   Homora V2  2022-07-07T05:08:44Z             37   \n",
       "178                  Wardenswap  2022-04-11T10:49:18Z             19   \n",
       "197                   Kyberswap  2022-06-16T07:54:02Z             67   \n",
       "27                        Sushi  2022-05-04T05:08:25Z            167   \n",
       "234                    Thirdweb  2022-06-23T00:01:43Z            360   \n",
       "303                Openxproject  2022-08-19T16:28:09Z             49   \n",
       "3                      Paraswap  2022-07-15T15:47:00Z             17   \n",
       "24                    OptiChads  2022-08-02T02:41:21Z              1   \n",
       "\n",
       "            type  num_transactions   txs_per_day  time_elapsed  year  \\\n",
       "144         dApp         2690760.0  14082.399864    191.072546  2022   \n",
       "285         dApp         1530600.0  10584.037168    144.614005  2022   \n",
       "256         dApp          436584.0   6748.665791     64.691898  2022   \n",
       "215         dApp          493262.0   2492.727721    197.880417  2022   \n",
       "227         dApp          614757.0   2195.326499    280.029873  2022   \n",
       "154         dApp          325401.0   2018.146419    161.237558  2022   \n",
       "117         dApp          413898.0   1794.445801    230.655058  2022   \n",
       "238         dApp          459905.0   1707.354122    269.367083  2022   \n",
       "228         dApp          156190.0   1551.791801    100.651389  2022   \n",
       "223         dApp           54818.0   1464.854262     37.422153  2022   \n",
       "287         dApp          353041.0   1308.827186    269.738437  2022   \n",
       "6           dApp          359818.0   1164.861788    308.893299  2022   \n",
       "175         dApp          259582.0    800.805809    324.150995  2022   \n",
       "137         dApp          173284.0    797.404120    217.310139  2022   \n",
       "91          dApp          248767.0    762.218937    326.372106  2022   \n",
       "146         dApp          222772.0    740.393657    300.883183  2022   \n",
       "277         dApp           51024.0    675.847620     75.496308  2022   \n",
       "278         dApp          113621.0    634.354437    179.112801  2022   \n",
       "147         dApp          144145.0    580.938464    248.124387  2022   \n",
       "61   NFT Project           51450.0    513.549339    100.185116  2022   \n",
       "171  NFT Project           35512.0    444.361784     79.916863  2022   \n",
       "263  NFT Project           16797.0    437.925962     38.355799  2022   \n",
       "163         dApp           71503.0    424.659373    168.377303  2022   \n",
       "8           dApp          106516.0    416.673623    255.634132  2022   \n",
       "7    NFT Project           26434.0    400.818661     65.950023  2022   \n",
       "260  NFT Project           13392.0    360.714115     37.126354  2022   \n",
       "4           dApp           70954.0    333.838155    212.540116  2022   \n",
       "308         dApp           93632.0    282.411757    331.544271  2022   \n",
       "306         dApp           35095.0    263.847015    133.012685  2022   \n",
       "26   NFT Project           14273.0    256.645752     55.613623  2022   \n",
       "84          dApp           60340.0    238.220540    253.294699  2022   \n",
       "187         dApp           24143.0    205.016466    117.761273  2022   \n",
       "121         dApp           65665.0    196.394143    334.353148  2022   \n",
       "190         dApp            9027.0    193.860698     46.564363  2022   \n",
       "76          dApp           43503.0    176.722631    246.165417  2022   \n",
       "138         dApp           21794.0    171.113332    127.365880  2022   \n",
       "69          dApp           33972.0    153.118311    221.867650  2022   \n",
       "102         dApp           23827.0    150.500497    158.318414  2022   \n",
       "88   NFT Project           15102.0    149.821601    100.799884  2022   \n",
       "219         dApp            3254.0    139.301258     23.359444  2022   \n",
       "119         dApp           22882.0    138.544519    165.159907  2022   \n",
       "269         dApp           20148.0    136.958178    147.110602  2022   \n",
       "302         dApp           24538.0    130.799670    187.599861  2022   \n",
       "243         dApp           15655.0    128.847086    121.500613  2022   \n",
       "103         dApp           35112.0    127.509547    275.367616  2022   \n",
       "172  NFT Project            5405.0    123.898853     43.624294  2022   \n",
       "259         dApp           18628.0    119.646142    155.692442  2022   \n",
       "178         dApp           28990.0    119.568117    242.455938  2022   \n",
       "197         dApp           20305.0    114.991903    176.577650  2022   \n",
       "27          dApp           23200.0    105.602071    219.692662  2022   \n",
       "234         dApp           17801.0    104.769913    169.905648  2022   \n",
       "303         dApp           11616.0    103.510384    112.220625  2022   \n",
       "3           dApp           14901.0    101.195795    147.249201  2022   \n",
       "24   NFT Project           13041.0    100.473985    129.794792  2022   \n",
       "\n",
       "          date  \n",
       "144 2022-06-01  \n",
       "285 2022-07-18  \n",
       "256 2022-10-06  \n",
       "215 2022-05-26  \n",
       "227 2022-03-04  \n",
       "154 2022-07-01  \n",
       "117 2022-04-23  \n",
       "238 2022-03-15  \n",
       "228 2022-08-31  \n",
       "223 2022-11-02  \n",
       "287 2022-03-15  \n",
       "6   2022-02-04  \n",
       "175 2022-01-19  \n",
       "137 2022-05-06  \n",
       "91  2022-01-17  \n",
       "146 2022-02-12  \n",
       "277 2022-09-25  \n",
       "278 2022-06-13  \n",
       "147 2022-04-05  \n",
       "61  2022-08-31  \n",
       "171 2022-09-20  \n",
       "263 2022-11-01  \n",
       "163 2022-06-24  \n",
       "8   2022-03-29  \n",
       "7   2022-10-04  \n",
       "260 2022-11-02  \n",
       "4   2022-05-11  \n",
       "308 2022-01-12  \n",
       "306 2022-07-29  \n",
       "26  2022-10-15  \n",
       "84  2022-03-31  \n",
       "187 2022-08-14  \n",
       "121 2022-01-09  \n",
       "190 2022-10-24  \n",
       "76  2022-04-07  \n",
       "138 2022-08-04  \n",
       "69  2022-05-02  \n",
       "102 2022-07-04  \n",
       "88  2022-08-31  \n",
       "219 2022-11-16  \n",
       "119 2022-06-27  \n",
       "269 2022-07-15  \n",
       "302 2022-06-05  \n",
       "243 2022-08-10  \n",
       "103 2022-03-09  \n",
       "172 2022-10-27  \n",
       "259 2022-07-07  \n",
       "178 2022-04-11  \n",
       "197 2022-06-16  \n",
       "27  2022-05-04  \n",
       "234 2022-06-23  \n",
       "303 2022-08-19  \n",
       "3   2022-07-15  \n",
       "24  2022-08-02  "
      ]
     },
     "metadata": {},
     "output_type": "display_data"
    }
   ],
   "source": [
    "display(df.sort_values(by='txs_per_day', ascending=False))"
   ]
  }
 ],
 "metadata": {
  "kernelspec": {
   "display_name": "base",
   "language": "python",
   "name": "python3"
  },
  "language_info": {
   "codemirror_mode": {
    "name": "ipython",
    "version": 3
   },
   "file_extension": ".py",
   "mimetype": "text/x-python",
   "name": "python",
   "nbconvert_exporter": "python",
   "pygments_lexer": "ipython3",
   "version": "3.9.13 (main, Aug 25 2022, 18:29:29) \n[Clang 12.0.0 ]"
  },
  "orig_nbformat": 4,
  "vscode": {
   "interpreter": {
    "hash": "17c021eea7371cec353b12daa8dd7517ddfe82cfa4c2626e1e7d1541ccab7c49"
   }
  }
 },
 "nbformat": 4,
 "nbformat_minor": 2
}
