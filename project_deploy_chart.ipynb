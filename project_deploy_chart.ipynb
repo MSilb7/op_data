{
 "cells": [
  {
   "cell_type": "code",
   "execution_count": 217,
   "metadata": {},
   "outputs": [],
   "source": [
    "import pandas as pd\n",
    "import plotly.express as px\n",
    "import os\n",
    "import numpy as np\n",
    "\n",
    "min_txs_per_day = 100"
   ]
  },
  {
   "cell_type": "code",
   "execution_count": 218,
   "metadata": {},
   "outputs": [
    {
     "data": {
      "text/html": [
       "<div>\n",
       "<style scoped>\n",
       "    .dataframe tbody tr th:only-of-type {\n",
       "        vertical-align: middle;\n",
       "    }\n",
       "\n",
       "    .dataframe tbody tr th {\n",
       "        vertical-align: top;\n",
       "    }\n",
       "\n",
       "    .dataframe thead th {\n",
       "        text-align: right;\n",
       "    }\n",
       "</style>\n",
       "<table border=\"1\" class=\"dataframe\">\n",
       "  <thead>\n",
       "    <tr style=\"text-align: right;\">\n",
       "      <th></th>\n",
       "      <th>project</th>\n",
       "      <th>launch_time</th>\n",
       "      <th>num_contracts</th>\n",
       "      <th>type</th>\n",
       "      <th>num_transactions</th>\n",
       "      <th>txs_per_day</th>\n",
       "      <th>time_elapsed</th>\n",
       "      <th>year</th>\n",
       "      <th>date</th>\n",
       "    </tr>\n",
       "  </thead>\n",
       "  <tbody>\n",
       "    <tr>\n",
       "      <th>174</th>\n",
       "      <td>Band Protocol</td>\n",
       "      <td>2021-12-14T11:32:09Z</td>\n",
       "      <td>52</td>\n",
       "      <td>Contract Project</td>\n",
       "      <td>45511.0</td>\n",
       "      <td>126.269962</td>\n",
       "      <td>360.426181</td>\n",
       "      <td>2021</td>\n",
       "      <td>2021-12-14</td>\n",
       "    </tr>\n",
       "    <tr>\n",
       "      <th>153</th>\n",
       "      <td>Zipswap</td>\n",
       "      <td>2021-12-10T18:50:39Z</td>\n",
       "      <td>133</td>\n",
       "      <td>Contract Project</td>\n",
       "      <td>71226.0</td>\n",
       "      <td>195.610442</td>\n",
       "      <td>364.121667</td>\n",
       "      <td>2021</td>\n",
       "      <td>2021-12-10</td>\n",
       "    </tr>\n",
       "    <tr>\n",
       "      <th>146</th>\n",
       "      <td>Kwenta</td>\n",
       "      <td>2022-02-12T00:34:04Z</td>\n",
       "      <td>36170</td>\n",
       "      <td>Contract Project</td>\n",
       "      <td>222772.0</td>\n",
       "      <td>740.393657</td>\n",
       "      <td>300.883183</td>\n",
       "      <td>2022</td>\n",
       "      <td>2022-02-12</td>\n",
       "    </tr>\n",
       "    <tr>\n",
       "      <th>197</th>\n",
       "      <td>Kyberswap</td>\n",
       "      <td>2022-06-16T07:54:02Z</td>\n",
       "      <td>67</td>\n",
       "      <td>Contract Project</td>\n",
       "      <td>20305.0</td>\n",
       "      <td>114.991903</td>\n",
       "      <td>176.577650</td>\n",
       "      <td>2022</td>\n",
       "      <td>2022-06-16</td>\n",
       "    </tr>\n",
       "    <tr>\n",
       "      <th>172</th>\n",
       "      <td>OP Horse Kingdom</td>\n",
       "      <td>2022-10-27T06:46:52Z</td>\n",
       "      <td>1</td>\n",
       "      <td>NFT Only Project</td>\n",
       "      <td>5405.0</td>\n",
       "      <td>123.898853</td>\n",
       "      <td>43.624294</td>\n",
       "      <td>2022</td>\n",
       "      <td>2022-10-27</td>\n",
       "    </tr>\n",
       "    <tr>\n",
       "      <th>215</th>\n",
       "      <td>Granary</td>\n",
       "      <td>2022-05-26T00:38:03Z</td>\n",
       "      <td>64</td>\n",
       "      <td>Contract Project</td>\n",
       "      <td>493262.0</td>\n",
       "      <td>2492.727721</td>\n",
       "      <td>197.880417</td>\n",
       "      <td>2022</td>\n",
       "      <td>2022-05-26</td>\n",
       "    </tr>\n",
       "    <tr>\n",
       "      <th>80</th>\n",
       "      <td>Lyra</td>\n",
       "      <td>2021-08-21T07:13:22Z</td>\n",
       "      <td>185</td>\n",
       "      <td>Contract Project</td>\n",
       "      <td>252379.0</td>\n",
       "      <td>530.647338</td>\n",
       "      <td>475.605891</td>\n",
       "      <td>2021</td>\n",
       "      <td>2021-08-21</td>\n",
       "    </tr>\n",
       "    <tr>\n",
       "      <th>137</th>\n",
       "      <td>Tarot Finance</td>\n",
       "      <td>2022-05-06T14:19:15Z</td>\n",
       "      <td>262</td>\n",
       "      <td>Contract Project</td>\n",
       "      <td>173284.0</td>\n",
       "      <td>797.404120</td>\n",
       "      <td>217.310139</td>\n",
       "      <td>2022</td>\n",
       "      <td>2022-05-06</td>\n",
       "    </tr>\n",
       "    <tr>\n",
       "      <th>67</th>\n",
       "      <td>Quix</td>\n",
       "      <td>2021-12-18T00:44:35Z</td>\n",
       "      <td>44</td>\n",
       "      <td>Contract Project</td>\n",
       "      <td>479918.0</td>\n",
       "      <td>1344.775670</td>\n",
       "      <td>356.875880</td>\n",
       "      <td>2021</td>\n",
       "      <td>2021-12-18</td>\n",
       "    </tr>\n",
       "    <tr>\n",
       "      <th>287</th>\n",
       "      <td>Layer Zero</td>\n",
       "      <td>2022-03-15T04:02:30Z</td>\n",
       "      <td>37</td>\n",
       "      <td>Contract Project</td>\n",
       "      <td>353041.0</td>\n",
       "      <td>1308.827186</td>\n",
       "      <td>269.738437</td>\n",
       "      <td>2022</td>\n",
       "      <td>2022-03-15</td>\n",
       "    </tr>\n",
       "  </tbody>\n",
       "</table>\n",
       "</div>"
      ],
      "text/plain": [
       "              project           launch_time  num_contracts              type  \\\n",
       "174     Band Protocol  2021-12-14T11:32:09Z             52  Contract Project   \n",
       "153           Zipswap  2021-12-10T18:50:39Z            133  Contract Project   \n",
       "146            Kwenta  2022-02-12T00:34:04Z          36170  Contract Project   \n",
       "197         Kyberswap  2022-06-16T07:54:02Z             67  Contract Project   \n",
       "172  OP Horse Kingdom  2022-10-27T06:46:52Z              1  NFT Only Project   \n",
       "215           Granary  2022-05-26T00:38:03Z             64  Contract Project   \n",
       "80               Lyra  2021-08-21T07:13:22Z            185  Contract Project   \n",
       "137     Tarot Finance  2022-05-06T14:19:15Z            262  Contract Project   \n",
       "67               Quix  2021-12-18T00:44:35Z             44  Contract Project   \n",
       "287        Layer Zero  2022-03-15T04:02:30Z             37  Contract Project   \n",
       "\n",
       "     num_transactions  txs_per_day  time_elapsed  year       date  \n",
       "174           45511.0   126.269962    360.426181  2021 2021-12-14  \n",
       "153           71226.0   195.610442    364.121667  2021 2021-12-10  \n",
       "146          222772.0   740.393657    300.883183  2022 2022-02-12  \n",
       "197           20305.0   114.991903    176.577650  2022 2022-06-16  \n",
       "172            5405.0   123.898853     43.624294  2022 2022-10-27  \n",
       "215          493262.0  2492.727721    197.880417  2022 2022-05-26  \n",
       "80           252379.0   530.647338    475.605891  2021 2021-08-21  \n",
       "137          173284.0   797.404120    217.310139  2022 2022-05-06  \n",
       "67           479918.0  1344.775670    356.875880  2021 2021-12-18  \n",
       "287          353041.0  1308.827186    269.738437  2022 2022-03-15  "
      ]
     },
     "execution_count": 218,
     "metadata": {},
     "output_type": "execute_result"
    }
   ],
   "source": [
    "df = pd.read_csv('csv_exports/project_deploys_2022_12_09.csv')\n",
    "\n",
    "df = df[ (df['txs_per_day'] >= min_txs_per_day)]\n",
    "# df = df[ (df['type'] == 'Contract Project')]\n",
    "df['year'] = df['launch_time'].str[:4]\n",
    "df['date'] = pd.to_datetime( df['launch_time'].str[:10] )\n",
    "\n",
    "df.sample(10)"
   ]
  },
  {
   "cell_type": "code",
   "execution_count": 219,
   "metadata": {},
   "outputs": [],
   "source": [
    "df['type'] = df['type'].str.replace('Contract Project','dApp')\n",
    "df['type'] = df['type'].str.replace('NFT Only Project','NFT Project')\n",
    "df['project'] = df['project'].str.replace(' Finance','')"
   ]
  },
  {
   "cell_type": "code",
   "execution_count": 220,
   "metadata": {},
   "outputs": [],
   "source": [
    "exclude_list = ['Op','Optimistic Explorer']\n",
    "\n",
    "df = df[~df['project'].isin(exclude_list)]"
   ]
  },
  {
   "cell_type": "code",
   "execution_count": 221,
   "metadata": {},
   "outputs": [
    {
     "name": "stdout",
     "output_type": "stream",
     "text": [
      "      project  launch_time  num_contracts  type  num_transactions  \\\n",
      "year                                                                \n",
      "2021       25           25             25    25                25   \n",
      "2022       55           55             55    55                55   \n",
      "\n",
      "      txs_per_day  time_elapsed  date  \n",
      "year                                   \n",
      "2021           25            25    25  \n",
      "2022           55            55    55  \n"
     ]
    }
   ],
   "source": [
    "print(df.groupby(by='year').count())\n",
    "df = df[df['year'] == '2022']\n",
    "# display(df)"
   ]
  },
  {
   "cell_type": "code",
   "execution_count": 222,
   "metadata": {},
   "outputs": [
    {
     "data": {
      "application/vnd.plotly.v1+json": {
       "config": {
        "plotlyServerURL": "https://plot.ly"
       },
       "data": [
        {
         "hovertemplate": "<b>%{hovertext}</b><br><br>App Type=dApp<br>Deployment Date=%{x}<br>Transactions per Day=%{y}<extra></extra>",
         "hovertext": [
          "Paraswap",
          "Chainhop",
          "Clipper",
          "Polynomial Protocol",
          "Sushi",
          "Hashflow",
          "Teleportr/ Warp Speed",
          "Nested",
          "Quest3",
          "Curve",
          "Reaper Farm",
          "Zerion",
          "Beethoven X",
          "Opensea",
          "Gelato",
          "Tarot",
          "Ripae",
          "Velodrome",
          "Kwenta",
          "Qidao",
          "Pooltogether",
          "Beefy",
          "Mirror",
          "Wardenswap",
          "Optimismpad",
          "Unidex",
          "Kyberswap",
          "Granary",
          "Web3 Savings Protocol",
          "Opx",
          "Aave",
          "Nex",
          "Thirdweb",
          "Stargate",
          "Ecc Domains",
          "Odos",
          "Homora V2",
          "Revert",
          "Sonne",
          "Biconomy - Hyphen",
          "Galxe",
          "Layer Zero",
          "Holozaki",
          "Openxproject",
          "Apetimism Launchapd",
          "Lifi"
         ],
         "legendgroup": "dApp",
         "marker": {
          "color": "#636efa",
          "symbol": "circle"
         },
         "mode": "markers",
         "name": "dApp",
         "orientation": "v",
         "showlegend": true,
         "type": "scatter",
         "x": [
          "2022-07-15T00:00:00",
          "2022-05-11T00:00:00",
          "2022-02-04T00:00:00",
          "2022-03-29T00:00:00",
          "2022-05-04T00:00:00",
          "2022-05-02T00:00:00",
          "2022-04-16T00:00:00",
          "2022-04-07T00:00:00",
          "2022-03-31T00:00:00",
          "2022-01-17T00:00:00",
          "2022-07-04T00:00:00",
          "2022-03-09T00:00:00",
          "2022-04-23T00:00:00",
          "2022-06-27T00:00:00",
          "2022-01-09T00:00:00",
          "2022-05-06T00:00:00",
          "2022-08-04T00:00:00",
          "2022-06-01T00:00:00",
          "2022-02-12T00:00:00",
          "2022-04-05T00:00:00",
          "2022-07-01T00:00:00",
          "2022-06-24T00:00:00",
          "2022-01-19T00:00:00",
          "2022-04-11T00:00:00",
          "2022-08-14T00:00:00",
          "2022-10-24T00:00:00",
          "2022-06-16T00:00:00",
          "2022-05-26T00:00:00",
          "2022-11-16T00:00:00",
          "2022-11-02T00:00:00",
          "2022-03-04T00:00:00",
          "2022-08-31T00:00:00",
          "2022-06-23T00:00:00",
          "2022-03-15T00:00:00",
          "2022-08-10T00:00:00",
          "2022-10-06T00:00:00",
          "2022-07-07T00:00:00",
          "2022-07-15T00:00:00",
          "2022-09-25T00:00:00",
          "2022-06-13T00:00:00",
          "2022-07-18T00:00:00",
          "2022-03-15T00:00:00",
          "2022-06-05T00:00:00",
          "2022-08-19T00:00:00",
          "2022-07-29T00:00:00",
          "2022-01-12T00:00:00"
         ],
         "xaxis": "x",
         "y": [
          101.1957950158662,
          333.8381545183246,
          1164.861787607124,
          416.67362331391854,
          105.60207056933388,
          153.11831143076466,
          270.0434707947724,
          176.72263061593068,
          238.2205400293594,
          762.218936789303,
          150.5004967207802,
          127.5095472121821,
          1794.445800675281,
          138.54451942477743,
          196.3941430301849,
          797.4041196881313,
          171.11333163462072,
          14082.399864119869,
          740.3936566836205,
          580.9384639303381,
          2018.1464188487123,
          424.6593728714564,
          800.8058087355408,
          119.5681174027755,
          205.01646555423352,
          193.86069809286775,
          114.99190269415756,
          2492.7277206562044,
          139.3012581159179,
          1464.8542622740913,
          2195.326498937923,
          1551.7918006319944,
          104.76991314896448,
          1707.3541217762008,
          128.84708610581814,
          6748.665791196876,
          119.64614174713962,
          136.95817804001717,
          675.8476200930232,
          634.3544370510358,
          10584.037167907863,
          1308.8271855953049,
          130.7996703977659,
          103.51038412056609,
          263.8470154266824,
          282.41175685122494
         ],
         "yaxis": "y"
        },
        {
         "hovertemplate": "<b>%{hovertext}</b><br><br>App Type=NFT Project<br>Deployment Date=%{x}<br>Transactions per Day=%{y}<extra></extra>",
         "hovertext": [
          "RabbitHole Credentials: L2",
          "OptiChads",
          "OaycNFT",
          "Early Optimists",
          "Alpha Gal",
          "OP Delegatooors",
          "OP Horse Kingdom",
          "OP Bridgooor",
          "Atlantis World"
         ],
         "legendgroup": "NFT Project",
         "marker": {
          "color": "#EF553B",
          "symbol": "circle"
         },
         "mode": "markers",
         "name": "NFT Project",
         "orientation": "v",
         "showlegend": true,
         "type": "scatter",
         "x": [
          "2022-10-04T00:00:00",
          "2022-08-02T00:00:00",
          "2022-10-15T00:00:00",
          "2022-08-31T00:00:00",
          "2022-08-31T00:00:00",
          "2022-09-20T00:00:00",
          "2022-10-27T00:00:00",
          "2022-11-02T00:00:00",
          "2022-11-01T00:00:00"
         ],
         "xaxis": "x",
         "y": [
          400.8186614373047,
          100.47398537755912,
          256.645751721586,
          513.5493393364183,
          149.82160059983167,
          444.36178395459285,
          123.89885329248936,
          360.7141153661623,
          437.9259618683616
         ],
         "yaxis": "y"
        }
       ],
       "layout": {
        "annotations": [
         {
          "arrowcolor": "#636363",
          "arrowsize": 1,
          "ax": 12,
          "ay": -12,
          "bgcolor": "#E6ECF5",
          "font": {
           "size": 10
          },
          "opacity": 0.9,
          "showarrow": true,
          "text": "Velodrome",
          "x": "2022-06-01T00:00:00",
          "xref": "x",
          "y": 14082.399864119869,
          "yref": "y"
         },
         {
          "arrowcolor": "#636363",
          "arrowsize": 1,
          "ax": 12,
          "ay": -12,
          "bgcolor": "#E6ECF5",
          "font": {
           "size": 10
          },
          "opacity": 0.9,
          "showarrow": true,
          "text": "Pooltogether",
          "x": "2022-07-01T00:00:00",
          "xref": "x",
          "y": 2018.1464188487123,
          "yref": "y"
         },
         {
          "arrowcolor": "#636363",
          "arrowsize": 1,
          "ax": 12,
          "ay": -12,
          "bgcolor": "#E6ECF5",
          "font": {
           "size": 10
          },
          "opacity": 0.9,
          "showarrow": true,
          "text": "Galxe",
          "x": "2022-07-18T00:00:00",
          "xref": "x",
          "y": 10584.037167907863,
          "yref": "y"
         },
         {
          "arrowcolor": "#636363",
          "arrowsize": 1,
          "ax": -12,
          "ay": -12,
          "bgcolor": "#E6ECF5",
          "font": {
           "size": 10
          },
          "opacity": 0.9,
          "showarrow": true,
          "text": "Aave",
          "x": "2022-03-04T00:00:00",
          "xref": "x",
          "y": 2195.326498937923,
          "yref": "y"
         },
         {
          "arrowcolor": "#636363",
          "arrowsize": 1,
          "ax": -12,
          "ay": 12,
          "bgcolor": "#E6ECF5",
          "font": {
           "size": 10
          },
          "opacity": 0.9,
          "showarrow": true,
          "text": "Curve",
          "x": "2022-01-17T00:00:00",
          "xref": "x",
          "y": 762.218936789303,
          "yref": "y"
         },
         {
          "arrowcolor": "#636363",
          "arrowsize": 1,
          "ax": 12,
          "ay": 12,
          "bgcolor": "#E6ECF5",
          "font": {
           "size": 10
          },
          "opacity": 0.9,
          "showarrow": true,
          "text": "Beethoven X",
          "x": "2022-04-23T00:00:00",
          "xref": "x",
          "y": 1794.445800675281,
          "yref": "y"
         },
         {
          "arrowcolor": "#636363",
          "arrowsize": 1,
          "ax": -12,
          "ay": 12,
          "bgcolor": "#E6ECF5",
          "font": {
           "size": 10
          },
          "opacity": 0.9,
          "showarrow": true,
          "text": "Kwenta",
          "x": "2022-02-12T00:00:00",
          "xref": "x",
          "y": 740.3936566836205,
          "yref": "y"
         },
         {
          "arrowcolor": "#636363",
          "arrowsize": 1,
          "ax": 12,
          "ay": 12,
          "bgcolor": "#E6ECF5",
          "font": {
           "size": 10
          },
          "opacity": 0.9,
          "showarrow": true,
          "text": "Opensea",
          "x": "2022-06-27T00:00:00",
          "xref": "x",
          "y": 138.54451942477743,
          "yref": "y"
         },
         {
          "arrowcolor": "#636363",
          "arrowsize": 1,
          "ax": 12,
          "ay": 12,
          "bgcolor": "#E6ECF5",
          "font": {
           "size": 10
          },
          "opacity": 0.9,
          "showarrow": true,
          "text": "Atlantis World",
          "x": "2022-11-01T00:00:00",
          "xref": "x",
          "y": 437.9259618683616,
          "yref": "y"
         },
         {
          "arrowcolor": "#636363",
          "arrowsize": 1,
          "ax": 12,
          "ay": -12,
          "bgcolor": "#E6ECF5",
          "font": {
           "size": 10
          },
          "opacity": 0.9,
          "showarrow": true,
          "text": "Odos",
          "x": "2022-10-06T00:00:00",
          "xref": "x",
          "y": 6748.665791196876,
          "yref": "y"
         },
         {
          "arrowcolor": "#636363",
          "arrowsize": 1,
          "ax": 12,
          "ay": -12,
          "bgcolor": "#E6ECF5",
          "font": {
           "size": 10
          },
          "opacity": 0.9,
          "showarrow": true,
          "text": "Granary",
          "x": "2022-05-26T00:00:00",
          "xref": "x",
          "y": 2492.7277206562044,
          "yref": "y"
         },
         {
          "arrowcolor": "#636363",
          "arrowsize": 1,
          "ax": -12,
          "ay": 12,
          "bgcolor": "#E6ECF5",
          "font": {
           "size": 10
          },
          "opacity": 0.9,
          "showarrow": true,
          "text": "Stargate",
          "x": "2022-03-15T00:00:00",
          "xref": "x",
          "y": 1707.3541217762008,
          "yref": "y"
         }
        ],
        "height": 400,
        "legend": {
         "title": {
          "text": "App Type"
         },
         "tracegroupgap": 0
        },
        "template": {
         "data": {
          "bar": [
           {
            "error_x": {
             "color": "#2a3f5f"
            },
            "error_y": {
             "color": "#2a3f5f"
            },
            "marker": {
             "line": {
              "color": "#E5ECF6",
              "width": 0.5
             },
             "pattern": {
              "fillmode": "overlay",
              "size": 10,
              "solidity": 0.2
             }
            },
            "type": "bar"
           }
          ],
          "barpolar": [
           {
            "marker": {
             "line": {
              "color": "#E5ECF6",
              "width": 0.5
             },
             "pattern": {
              "fillmode": "overlay",
              "size": 10,
              "solidity": 0.2
             }
            },
            "type": "barpolar"
           }
          ],
          "carpet": [
           {
            "aaxis": {
             "endlinecolor": "#2a3f5f",
             "gridcolor": "white",
             "linecolor": "white",
             "minorgridcolor": "white",
             "startlinecolor": "#2a3f5f"
            },
            "baxis": {
             "endlinecolor": "#2a3f5f",
             "gridcolor": "white",
             "linecolor": "white",
             "minorgridcolor": "white",
             "startlinecolor": "#2a3f5f"
            },
            "type": "carpet"
           }
          ],
          "choropleth": [
           {
            "colorbar": {
             "outlinewidth": 0,
             "ticks": ""
            },
            "type": "choropleth"
           }
          ],
          "contour": [
           {
            "colorbar": {
             "outlinewidth": 0,
             "ticks": ""
            },
            "colorscale": [
             [
              0,
              "#0d0887"
             ],
             [
              0.1111111111111111,
              "#46039f"
             ],
             [
              0.2222222222222222,
              "#7201a8"
             ],
             [
              0.3333333333333333,
              "#9c179e"
             ],
             [
              0.4444444444444444,
              "#bd3786"
             ],
             [
              0.5555555555555556,
              "#d8576b"
             ],
             [
              0.6666666666666666,
              "#ed7953"
             ],
             [
              0.7777777777777778,
              "#fb9f3a"
             ],
             [
              0.8888888888888888,
              "#fdca26"
             ],
             [
              1,
              "#f0f921"
             ]
            ],
            "type": "contour"
           }
          ],
          "contourcarpet": [
           {
            "colorbar": {
             "outlinewidth": 0,
             "ticks": ""
            },
            "type": "contourcarpet"
           }
          ],
          "heatmap": [
           {
            "colorbar": {
             "outlinewidth": 0,
             "ticks": ""
            },
            "colorscale": [
             [
              0,
              "#0d0887"
             ],
             [
              0.1111111111111111,
              "#46039f"
             ],
             [
              0.2222222222222222,
              "#7201a8"
             ],
             [
              0.3333333333333333,
              "#9c179e"
             ],
             [
              0.4444444444444444,
              "#bd3786"
             ],
             [
              0.5555555555555556,
              "#d8576b"
             ],
             [
              0.6666666666666666,
              "#ed7953"
             ],
             [
              0.7777777777777778,
              "#fb9f3a"
             ],
             [
              0.8888888888888888,
              "#fdca26"
             ],
             [
              1,
              "#f0f921"
             ]
            ],
            "type": "heatmap"
           }
          ],
          "heatmapgl": [
           {
            "colorbar": {
             "outlinewidth": 0,
             "ticks": ""
            },
            "colorscale": [
             [
              0,
              "#0d0887"
             ],
             [
              0.1111111111111111,
              "#46039f"
             ],
             [
              0.2222222222222222,
              "#7201a8"
             ],
             [
              0.3333333333333333,
              "#9c179e"
             ],
             [
              0.4444444444444444,
              "#bd3786"
             ],
             [
              0.5555555555555556,
              "#d8576b"
             ],
             [
              0.6666666666666666,
              "#ed7953"
             ],
             [
              0.7777777777777778,
              "#fb9f3a"
             ],
             [
              0.8888888888888888,
              "#fdca26"
             ],
             [
              1,
              "#f0f921"
             ]
            ],
            "type": "heatmapgl"
           }
          ],
          "histogram": [
           {
            "marker": {
             "pattern": {
              "fillmode": "overlay",
              "size": 10,
              "solidity": 0.2
             }
            },
            "type": "histogram"
           }
          ],
          "histogram2d": [
           {
            "colorbar": {
             "outlinewidth": 0,
             "ticks": ""
            },
            "colorscale": [
             [
              0,
              "#0d0887"
             ],
             [
              0.1111111111111111,
              "#46039f"
             ],
             [
              0.2222222222222222,
              "#7201a8"
             ],
             [
              0.3333333333333333,
              "#9c179e"
             ],
             [
              0.4444444444444444,
              "#bd3786"
             ],
             [
              0.5555555555555556,
              "#d8576b"
             ],
             [
              0.6666666666666666,
              "#ed7953"
             ],
             [
              0.7777777777777778,
              "#fb9f3a"
             ],
             [
              0.8888888888888888,
              "#fdca26"
             ],
             [
              1,
              "#f0f921"
             ]
            ],
            "type": "histogram2d"
           }
          ],
          "histogram2dcontour": [
           {
            "colorbar": {
             "outlinewidth": 0,
             "ticks": ""
            },
            "colorscale": [
             [
              0,
              "#0d0887"
             ],
             [
              0.1111111111111111,
              "#46039f"
             ],
             [
              0.2222222222222222,
              "#7201a8"
             ],
             [
              0.3333333333333333,
              "#9c179e"
             ],
             [
              0.4444444444444444,
              "#bd3786"
             ],
             [
              0.5555555555555556,
              "#d8576b"
             ],
             [
              0.6666666666666666,
              "#ed7953"
             ],
             [
              0.7777777777777778,
              "#fb9f3a"
             ],
             [
              0.8888888888888888,
              "#fdca26"
             ],
             [
              1,
              "#f0f921"
             ]
            ],
            "type": "histogram2dcontour"
           }
          ],
          "mesh3d": [
           {
            "colorbar": {
             "outlinewidth": 0,
             "ticks": ""
            },
            "type": "mesh3d"
           }
          ],
          "parcoords": [
           {
            "line": {
             "colorbar": {
              "outlinewidth": 0,
              "ticks": ""
             }
            },
            "type": "parcoords"
           }
          ],
          "pie": [
           {
            "automargin": true,
            "type": "pie"
           }
          ],
          "scatter": [
           {
            "fillpattern": {
             "fillmode": "overlay",
             "size": 10,
             "solidity": 0.2
            },
            "type": "scatter"
           }
          ],
          "scatter3d": [
           {
            "line": {
             "colorbar": {
              "outlinewidth": 0,
              "ticks": ""
             }
            },
            "marker": {
             "colorbar": {
              "outlinewidth": 0,
              "ticks": ""
             }
            },
            "type": "scatter3d"
           }
          ],
          "scattercarpet": [
           {
            "marker": {
             "colorbar": {
              "outlinewidth": 0,
              "ticks": ""
             }
            },
            "type": "scattercarpet"
           }
          ],
          "scattergeo": [
           {
            "marker": {
             "colorbar": {
              "outlinewidth": 0,
              "ticks": ""
             }
            },
            "type": "scattergeo"
           }
          ],
          "scattergl": [
           {
            "marker": {
             "colorbar": {
              "outlinewidth": 0,
              "ticks": ""
             }
            },
            "type": "scattergl"
           }
          ],
          "scattermapbox": [
           {
            "marker": {
             "colorbar": {
              "outlinewidth": 0,
              "ticks": ""
             }
            },
            "type": "scattermapbox"
           }
          ],
          "scatterpolar": [
           {
            "marker": {
             "colorbar": {
              "outlinewidth": 0,
              "ticks": ""
             }
            },
            "type": "scatterpolar"
           }
          ],
          "scatterpolargl": [
           {
            "marker": {
             "colorbar": {
              "outlinewidth": 0,
              "ticks": ""
             }
            },
            "type": "scatterpolargl"
           }
          ],
          "scatterternary": [
           {
            "marker": {
             "colorbar": {
              "outlinewidth": 0,
              "ticks": ""
             }
            },
            "type": "scatterternary"
           }
          ],
          "surface": [
           {
            "colorbar": {
             "outlinewidth": 0,
             "ticks": ""
            },
            "colorscale": [
             [
              0,
              "#0d0887"
             ],
             [
              0.1111111111111111,
              "#46039f"
             ],
             [
              0.2222222222222222,
              "#7201a8"
             ],
             [
              0.3333333333333333,
              "#9c179e"
             ],
             [
              0.4444444444444444,
              "#bd3786"
             ],
             [
              0.5555555555555556,
              "#d8576b"
             ],
             [
              0.6666666666666666,
              "#ed7953"
             ],
             [
              0.7777777777777778,
              "#fb9f3a"
             ],
             [
              0.8888888888888888,
              "#fdca26"
             ],
             [
              1,
              "#f0f921"
             ]
            ],
            "type": "surface"
           }
          ],
          "table": [
           {
            "cells": {
             "fill": {
              "color": "#EBF0F8"
             },
             "line": {
              "color": "white"
             }
            },
            "header": {
             "fill": {
              "color": "#C8D4E3"
             },
             "line": {
              "color": "white"
             }
            },
            "type": "table"
           }
          ]
         },
         "layout": {
          "annotationdefaults": {
           "arrowcolor": "#2a3f5f",
           "arrowhead": 0,
           "arrowwidth": 1
          },
          "autotypenumbers": "strict",
          "coloraxis": {
           "colorbar": {
            "outlinewidth": 0,
            "ticks": ""
           }
          },
          "colorscale": {
           "diverging": [
            [
             0,
             "#8e0152"
            ],
            [
             0.1,
             "#c51b7d"
            ],
            [
             0.2,
             "#de77ae"
            ],
            [
             0.3,
             "#f1b6da"
            ],
            [
             0.4,
             "#fde0ef"
            ],
            [
             0.5,
             "#f7f7f7"
            ],
            [
             0.6,
             "#e6f5d0"
            ],
            [
             0.7,
             "#b8e186"
            ],
            [
             0.8,
             "#7fbc41"
            ],
            [
             0.9,
             "#4d9221"
            ],
            [
             1,
             "#276419"
            ]
           ],
           "sequential": [
            [
             0,
             "#0d0887"
            ],
            [
             0.1111111111111111,
             "#46039f"
            ],
            [
             0.2222222222222222,
             "#7201a8"
            ],
            [
             0.3333333333333333,
             "#9c179e"
            ],
            [
             0.4444444444444444,
             "#bd3786"
            ],
            [
             0.5555555555555556,
             "#d8576b"
            ],
            [
             0.6666666666666666,
             "#ed7953"
            ],
            [
             0.7777777777777778,
             "#fb9f3a"
            ],
            [
             0.8888888888888888,
             "#fdca26"
            ],
            [
             1,
             "#f0f921"
            ]
           ],
           "sequentialminus": [
            [
             0,
             "#0d0887"
            ],
            [
             0.1111111111111111,
             "#46039f"
            ],
            [
             0.2222222222222222,
             "#7201a8"
            ],
            [
             0.3333333333333333,
             "#9c179e"
            ],
            [
             0.4444444444444444,
             "#bd3786"
            ],
            [
             0.5555555555555556,
             "#d8576b"
            ],
            [
             0.6666666666666666,
             "#ed7953"
            ],
            [
             0.7777777777777778,
             "#fb9f3a"
            ],
            [
             0.8888888888888888,
             "#fdca26"
            ],
            [
             1,
             "#f0f921"
            ]
           ]
          },
          "colorway": [
           "#636efa",
           "#EF553B",
           "#00cc96",
           "#ab63fa",
           "#FFA15A",
           "#19d3f3",
           "#FF6692",
           "#B6E880",
           "#FF97FF",
           "#FECB52"
          ],
          "font": {
           "color": "#2a3f5f"
          },
          "geo": {
           "bgcolor": "white",
           "lakecolor": "white",
           "landcolor": "#E5ECF6",
           "showlakes": true,
           "showland": true,
           "subunitcolor": "white"
          },
          "hoverlabel": {
           "align": "left"
          },
          "hovermode": "closest",
          "mapbox": {
           "style": "light"
          },
          "paper_bgcolor": "white",
          "plot_bgcolor": "#E5ECF6",
          "polar": {
           "angularaxis": {
            "gridcolor": "white",
            "linecolor": "white",
            "ticks": ""
           },
           "bgcolor": "#E5ECF6",
           "radialaxis": {
            "gridcolor": "white",
            "linecolor": "white",
            "ticks": ""
           }
          },
          "scene": {
           "xaxis": {
            "backgroundcolor": "#E5ECF6",
            "gridcolor": "white",
            "gridwidth": 2,
            "linecolor": "white",
            "showbackground": true,
            "ticks": "",
            "zerolinecolor": "white"
           },
           "yaxis": {
            "backgroundcolor": "#E5ECF6",
            "gridcolor": "white",
            "gridwidth": 2,
            "linecolor": "white",
            "showbackground": true,
            "ticks": "",
            "zerolinecolor": "white"
           },
           "zaxis": {
            "backgroundcolor": "#E5ECF6",
            "gridcolor": "white",
            "gridwidth": 2,
            "linecolor": "white",
            "showbackground": true,
            "ticks": "",
            "zerolinecolor": "white"
           }
          },
          "shapedefaults": {
           "line": {
            "color": "#2a3f5f"
           }
          },
          "ternary": {
           "aaxis": {
            "gridcolor": "white",
            "linecolor": "white",
            "ticks": ""
           },
           "baxis": {
            "gridcolor": "white",
            "linecolor": "white",
            "ticks": ""
           },
           "bgcolor": "#E5ECF6",
           "caxis": {
            "gridcolor": "white",
            "linecolor": "white",
            "ticks": ""
           }
          },
          "title": {
           "x": 0.05
          },
          "xaxis": {
           "automargin": true,
           "gridcolor": "white",
           "linecolor": "white",
           "ticks": "",
           "title": {
            "standoff": 15
           },
           "zerolinecolor": "white",
           "zerolinewidth": 2
          },
          "yaxis": {
           "automargin": true,
           "gridcolor": "white",
           "linecolor": "white",
           "ticks": "",
           "title": {
            "standoff": 15
           },
           "zerolinecolor": "white",
           "zerolinewidth": 2
          }
         }
        },
        "title": {
         "text": "Projects Deployed on Optimism in 2022                         <br><sup>Plot Greater Than 100 Transactions per Day</sup>"
        },
        "width": 800,
        "xaxis": {
         "anchor": "y",
         "domain": [
          0,
          1
         ],
         "title": {
          "text": "Deployment Date"
         }
        },
        "yaxis": {
         "anchor": "x",
         "domain": [
          0,
          1
         ],
         "title": {
          "text": "Transactions per Day"
         }
        }
       }
      }
     },
     "metadata": {},
     "output_type": "display_data"
    }
   ],
   "source": [
    "fig = px.scatter(df, x=\"date\", y=\"txs_per_day\",\n",
    "\t        #  size=\"pop\", \n",
    "                 color=\"type\",\n",
    "                 hover_name=\"project\",\n",
    "                #  size_max=60\n",
    "                labels={\"date\":\"Deployment Date\", \"txs_per_day\":\"Transactions per Day\", \"type\":\"App Type\"}\n",
    "                ,title = \"Projects Deployed on Optimism in 2022 \\\n",
    "                        <br><sup>Plot Greater Than 100 Transactions per Day</sup>\"\n",
    "                , width=800, height=400\n",
    "                 )\n",
    "project_annotations = ['Velodrome','Pooltogether','Galxe','Aave','Curve','Beethoven X','Kwenta','Opensea','Atlantis World','Odos','Granary','Stargate']\n",
    "for p in project_annotations:\n",
    "        x_val = df[df['project'] == p]['date'].iloc[0]\n",
    "        y_val = df[df['project'] == p]['txs_per_day'].iloc[0]\n",
    "        fig.add_annotation(x= x_val, y= y_val,\n",
    "                text=p,\n",
    "                showarrow=True,\n",
    "                arrowsize=1,\n",
    "                ay= int( np.where(y_val > 2000, -12, 12) ),\n",
    "                ax= int( np.where(x_val > pd.to_datetime(\"2022-03-15\"), 12, -12) ),\n",
    "                xref=\"x\",\n",
    "                yref=\"y\",\n",
    "                bgcolor=\"#E6ECF5\",\n",
    "                opacity=0.9,\n",
    "                arrowcolor=\"#636363\",\n",
    "                font=dict(\n",
    "                        size=10,\n",
    "                        ),\n",
    "                )\n",
    "fig.show()\n",
    "if not os.path.exists(\"img_outputs\"):\n",
    "        os.mkdir(\"img_outputs\")\n",
    "fig.write_image(\"img_outputs/op_deployments_2022.svg\")\n",
    "fig.write_image(\"img_outputs/op_deployments_2022.png\")"
   ]
  }
 ],
 "metadata": {
  "kernelspec": {
   "display_name": "base",
   "language": "python",
   "name": "python3"
  },
  "language_info": {
   "codemirror_mode": {
    "name": "ipython",
    "version": 3
   },
   "file_extension": ".py",
   "mimetype": "text/x-python",
   "name": "python",
   "nbconvert_exporter": "python",
   "pygments_lexer": "ipython3",
   "version": "3.10.6"
  },
  "orig_nbformat": 4,
  "vscode": {
   "interpreter": {
    "hash": "17c021eea7371cec353b12daa8dd7517ddfe82cfa4c2626e1e7d1541ccab7c49"
   }
  }
 },
 "nbformat": 4,
 "nbformat_minor": 2
}
