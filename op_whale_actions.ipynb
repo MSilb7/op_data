{
 "cells": [
  {
   "cell_type": "code",
   "execution_count": 170,
   "metadata": {},
   "outputs": [],
   "source": [
    "import pandas as pd\n",
    "import plotly.express as px\n",
    "import numpy as np\n",
    "import os\n"
   ]
  },
  {
   "cell_type": "code",
   "execution_count": 171,
   "metadata": {},
   "outputs": [],
   "source": [
    "df = pd.read_csv('csv_exports/op_whale_actions_22_01_17.csv')\n",
    "df['usd_value_in'] = np.where(df['token_direction'] == 'in',df['usd_value'], 0)\n",
    "df['usd_value_out'] = np.where(df['token_direction'] == 'out',df['usd_value'], 0)\n",
    "df['usd_value_net'] = df['usd_value_in'] - df['usd_value_out']\n",
    "df['usd_value_net'] = np.where(df['usd_value_net'] < 0, 0, df['usd_value_net'])\n",
    "val_cols = ['usd_value','usd_value_in','usd_value_out','usd_value_net']"
   ]
  },
  {
   "cell_type": "code",
   "execution_count": 172,
   "metadata": {},
   "outputs": [
    {
     "name": "stderr",
     "output_type": "stream",
     "text": [
      "/var/folders/by/kltjc8yd0yz_7_wrtrzhrm9m0000gn/T/ipykernel_88644/3317580168.py:1: FutureWarning:\n",
      "\n",
      "The default value of numeric_only in DataFrameGroupBy.sum is deprecated. In a future version, numeric_only will default to False. Either specify numeric_only or select only columns which should be valid for the function.\n",
      "\n"
     ]
    }
   ],
   "source": [
    "df_addr = df.groupby(['address','project','contract','method']).sum()\n",
    "df_addr.reset_index(inplace=True)\n",
    "\n",
    "for val in val_cols:\n",
    "        df_addr[val + '_pct_share'] = df_addr.groupby('address')[val].transform(lambda x: x / x.sum())\n",
    "# display(df_addr)"
   ]
  },
  {
   "cell_type": "code",
   "execution_count": 173,
   "metadata": {},
   "outputs": [],
   "source": [
    "df_dollar = df[['project','contract','method','usd_value','usd_value_in','usd_value_out','usd_value_net','address']]\n",
    "df_dollar = df_dollar.groupby(['project','contract','method']).agg({\n",
    "        'usd_value':'sum'\n",
    "        ,'usd_value_in':'sum'\n",
    "        ,'usd_value_out':'sum'\n",
    "        ,'usd_value_net':'sum'\n",
    "        ,'address':'nunique'\n",
    "})\n",
    "df_dollar.reset_index(inplace=True)\n",
    "df_dollar.name = 'df_dollar'\n",
    "for val in val_cols:\n",
    "        df_dollar[val + '_pct_share'] =  df_dollar[val] / ( df_dollar[val].sum() )\n"
   ]
  },
  {
   "cell_type": "code",
   "execution_count": 174,
   "metadata": {},
   "outputs": [],
   "source": [
    "# Get the average volume share across all whales\n",
    "# i.e. once someone is determined to be a whale, tkae their pct transfer share, and then we avg across rather than $ weight.\n",
    "# The reason to not dollar-weight is that we care more about genetating the average individual user experience, rather than the whaliest whale.\n",
    "\n",
    "df_action = df_addr.groupby(['project','contract','method']).agg({\n",
    "        'usd_value_pct_share':'mean'\n",
    "        ,'usd_value_in_pct_share':'mean'\n",
    "        ,'usd_value_out_pct_share':'mean'\n",
    "        ,'usd_value_net_pct_share':'mean'\n",
    "        ,'address':'nunique'\n",
    "})\n",
    "df_action.name = 'df_action'\n",
    "\n",
    "# display(df_action)"
   ]
  },
  {
   "cell_type": "code",
   "execution_count": 175,
   "metadata": {},
   "outputs": [],
   "source": [
    "dfs = [df_action, df_dollar]\n",
    "dlist = ['project','contract','method','action',\\\n",
    "                'usd_value_pct_share','usd_value_in_pct_share','usd_value_out_pct_share','usd_value_net_pct_share','address']\n",
    "\n",
    "\n",
    "if not os.path.exists(\"csv_outputs\"):\n",
    "        os.mkdir(\"csv_outputs\")\n",
    "        \n",
    "for i, d in enumerate(dfs):\n",
    "        original_name = d.name\n",
    "        d.reset_index(inplace=True)\n",
    "        \n",
    "        d['action'] = d['project'].astype(str) + ' - ' + d['contract'].astype(str) + ' | ' + d['method'].astype(str)\n",
    "        d = d[dlist]\n",
    "        \n",
    "        dfs[i] = d\n",
    "        d.name = original_name\n",
    "        \n",
    "#dumb hardcode, tried to do it fancy, but whatever\n",
    "df_action = dfs[0]\n",
    "df_dollar = dfs[1]\n",
    "\n",
    "df_action.to_csv('csv_outputs/whale_actions_share.csv')\n",
    "df_dollar.to_csv('csv_outputs/whale_actions_share_dollar_weight.csv')\n",
    "# gix = px.pie(df_action, values='usd_value_out_pct_share', names='action', title='Share of Actions')"
   ]
  }
 ],
 "metadata": {
  "kernelspec": {
   "display_name": "new-env",
   "language": "python",
   "name": "python3"
  },
  "language_info": {
   "codemirror_mode": {
    "name": "ipython",
    "version": 3
   },
   "file_extension": ".py",
   "mimetype": "text/x-python",
   "name": "python",
   "nbconvert_exporter": "python",
   "pygments_lexer": "ipython3",
   "version": "3.10.8"
  },
  "orig_nbformat": 4,
  "vscode": {
   "interpreter": {
    "hash": "7d537a1638226190f579d6fbb68604c1b09ebc740a69df557abedb49ad78e592"
   }
  }
 },
 "nbformat": 4,
 "nbformat_minor": 2
}
